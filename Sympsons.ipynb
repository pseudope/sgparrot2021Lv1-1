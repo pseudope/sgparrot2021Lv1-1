{
  "nbformat": 4,
  "nbformat_minor": 0,
  "metadata": {
    "colab": {
      "name": "Sympsons.ipynb",
      "private_outputs": true,
      "provenance": [],
      "collapsed_sections": [],
      "mount_file_id": "10EiAoyvEUPHD7drDT-A0cJiEdg_ECS2-",
      "authorship_tag": "ABX9TyOmFtmJfhObFVJxK7iOUJGy",
      "include_colab_link": true
    },
    "kernelspec": {
      "name": "python3",
      "display_name": "Python 3"
    },
    "language_info": {
      "name": "python"
    }
  },
  "cells": [
    {
      "cell_type": "markdown",
      "metadata": {
        "id": "view-in-github",
        "colab_type": "text"
      },
      "source": [
        "<a href=\"https://colab.research.google.com/github/sgparrot/sgparrot2021Lv1-1/blob/main/Sympsons.ipynb\" target=\"_parent\"><img src=\"https://colab.research.google.com/assets/colab-badge.svg\" alt=\"Open In Colab\"/></a>"
      ]
    },
    {
      "cell_type": "code",
      "metadata": {
        "id": "0wb514MlxgLF"
      },
      "source": [
        "import numpy as np\n",
        "import pandas as pd\n",
        "import matplotlib.pyplot as plt\n",
        "\n",
        "import glob\n",
        "import cv2\n",
        "\n",
        "import tensorflow as tf\n",
        "from tensorflow.keras import layers\n",
        "from tensorflow.keras.utils import to_categorical\n",
        "from tensorflow.keras.models import Sequential\n",
        "from tensorflow.keras.layers import Conv2D, MaxPooling2D, Dense, Flatten"
      ],
      "execution_count": null,
      "outputs": []
    },
    {
      "cell_type": "markdown",
      "metadata": {
        "id": "YhP5FBpozsiA"
      },
      "source": [
        "# **최종 제출 형식**"
      ]
    },
    {
      "cell_type": "code",
      "metadata": {
        "id": "TDOCxM1lxjms"
      },
      "source": [
        "from google.colab import files\n",
        "\n",
        "uploaded = files.upload()\n"
      ],
      "execution_count": null,
      "outputs": []
    },
    {
      "cell_type": "code",
      "metadata": {
        "id": "PPa4tViczSUB"
      },
      "source": [
        "import io\n",
        "sample = pd.read_csv(io.BytesIO(uploaded['test_sample.csv']),index_col=0)\n",
        "sample.head(10)"
      ],
      "execution_count": null,
      "outputs": []
    },
    {
      "cell_type": "markdown",
      "metadata": {
        "id": "8s2h2hxtLDG6"
      },
      "source": [
        "# **데이터 불러오기**"
      ]
    },
    {
      "cell_type": "markdown",
      "metadata": {
        "id": "tWeKkBWnMN6A"
      },
      "source": [
        "Google drive에 업로드 후 드라이브 마운트 \n",
        "\n",
        "* 압축 풀기\n",
        "\n",
        "    !unzip (압축 해제할 파일).zip -d (압축 해제 파일 저장 경로)"
      ]
    },
    {
      "cell_type": "code",
      "metadata": {
        "id": "tOV_wO8nMLyl"
      },
      "source": [
        "!unzip /content/drive/MyDrive/simpson_data_set/simpsons_dataset-20210509T105542Z-001.zip -d \"/content/drive/MyDrive/simpson_data_set\""
      ],
      "execution_count": null,
      "outputs": []
    },
    {
      "cell_type": "markdown",
      "metadata": {
        "id": "wIRbQc5zRLPf"
      },
      "source": [
        "* 데이터 불러오기"
      ]
    },
    {
      "cell_type": "code",
      "metadata": {
        "id": "Wez9wnbpWO2m"
      },
      "source": [
        "import os \n",
        "from keras.preprocessing import image\n",
        "import glob\n",
        "import cv2 as cv"
      ],
      "execution_count": null,
      "outputs": []
    },
    {
      "cell_type": "code",
      "metadata": {
        "id": "eV-ZqRw1Xjv4"
      },
      "source": [
        "train_path = '/content/drive/MyDrive/simpson_data_set/simpsons_dataset/train'"
      ],
      "execution_count": null,
      "outputs": []
    },
    {
      "cell_type": "code",
      "metadata": {
        "id": "kIO70s_Yj0LH"
      },
      "source": [
        "#train 폴더 속 하위 폴더 리스트로 반환\n",
        "\n",
        "categories = os.listdir(train_path)\n",
        "categories.sort()\n",
        "\n",
        "\n",
        "print(\"categories : \", categories)\n",
        "print(\"Number of categories : \",len(categories))"
      ],
      "execution_count": null,
      "outputs": []
    },
    {
      "cell_type": "markdown",
      "metadata": {
        "id": "09LrlyxC64Um"
      },
      "source": [
        " bart 데이터 확인\n"
      ]
    },
    {
      "cell_type": "code",
      "metadata": {
        "id": "50UCZYGkuQlF"
      },
      "source": [
        "condition = '/content/drive/MyDrive/simpson_data_set/simpsons_dataset/train/bart/*.jpg'\n",
        "\n",
        "bart = glob.glob(condition)\n",
        "bart.sort()\n",
        "\n",
        "print(\"Number of Bart images : \", len(bart))\n",
        "print(\"Bart image file path (to the 9th) : \", bart[:9])\n"
      ],
      "execution_count": null,
      "outputs": []
    },
    {
      "cell_type": "code",
      "metadata": {
        "id": "yqBYOEXo8tu9"
      },
      "source": [
        "\n",
        "fig = plt.figure(figsize=(20,10))\n",
        "for i, path in enumerate(bart[:9]) :\n",
        "    img = image.load_img(path, target_size=(250, 250))\n",
        "    plt.subplot(3,3,i+1)\n",
        "    plt.xticks([])\n",
        "    plt.yticks([])\n",
        "    plt.imshow(img)\n",
        "\n",
        "    #이미지 제목 지정\n",
        "    name = path.split('/')\n",
        "    name = name[-1]\n",
        "    plt.title(name)\n",
        "\n",
        "plt.subplots_adjust(left = 0.3, bottom = -0.1)\n",
        "plt.show()\n",
        "\n",
        "\n",
        "\n",
        "    "
      ],
      "execution_count": null,
      "outputs": []
    },
    {
      "cell_type": "code",
      "metadata": {
        "id": "lUIuttrbykcb"
      },
      "source": [
        ""
      ],
      "execution_count": null,
      "outputs": []
    },
    {
      "cell_type": "code",
      "metadata": {
        "id": "6yq5WWUnykZ2"
      },
      "source": [
        ""
      ],
      "execution_count": null,
      "outputs": []
    },
    {
      "cell_type": "code",
      "metadata": {
        "id": "922FZ1fXykWg"
      },
      "source": [
        ""
      ],
      "execution_count": null,
      "outputs": []
    },
    {
      "cell_type": "code",
      "metadata": {
        "id": "mqpd69iP8tDm"
      },
      "source": [
        ""
      ],
      "execution_count": null,
      "outputs": []
    },
    {
      "cell_type": "code",
      "metadata": {
        "id": "OoVuJG8sykPL"
      },
      "source": [
        ""
      ],
      "execution_count": null,
      "outputs": []
    },
    {
      "cell_type": "code",
      "metadata": {
        "id": "Sle61uynykC4"
      },
      "source": [
        ""
      ],
      "execution_count": null,
      "outputs": []
    },
    {
      "cell_type": "code",
      "metadata": {
        "id": "LFRukFPwBLYo"
      },
      "source": [
        ""
      ],
      "execution_count": null,
      "outputs": []
    },
    {
      "cell_type": "code",
      "metadata": {
        "id": "LgcM9hNt8KXZ"
      },
      "source": [
        ""
      ],
      "execution_count": null,
      "outputs": []
    },
    {
      "cell_type": "markdown",
      "metadata": {
        "id": "yM1yE5lMnA8R"
      },
      "source": [
        ""
      ]
    },
    {
      "cell_type": "code",
      "metadata": {
        "id": "0KLVYfm5lSpO"
      },
      "source": [
        ""
      ],
      "execution_count": null,
      "outputs": []
    },
    {
      "cell_type": "code",
      "metadata": {
        "id": "PmWJGHawg6Qj"
      },
      "source": [
        ""
      ],
      "execution_count": null,
      "outputs": []
    },
    {
      "cell_type": "code",
      "metadata": {
        "id": "u00D5kIAYQss"
      },
      "source": [
        ""
      ],
      "execution_count": null,
      "outputs": []
    },
    {
      "cell_type": "code",
      "metadata": {
        "id": "QGQqZ38aiq1p"
      },
      "source": [
        ""
      ],
      "execution_count": null,
      "outputs": []
    },
    {
      "cell_type": "code",
      "metadata": {
        "id": "JatQOaTXOifc"
      },
      "source": [
        "ff.\n",
        "\n",
        "img = image.load_img(os.path.join('/content/drive/MyDrive/simpson_data_set/simpsons_dataset', 'train/bart/pic_0000.jpg'), target_size=(250, 250))\n",
        "\n",
        "\n",
        "plt.figure(figsize=(20, 10))\n",
        "\n",
        "plt.subplot(330+1+0)\n",
        "plt.imshow(img)\n",
        "plt.show()\n",
        "\n",
        "\n",
        "#출처: https://rfriend.tistory.com/564 "
      ],
      "execution_count": null,
      "outputs": []
    },
    {
      "cell_type": "code",
      "metadata": {
        "id": "jKTh6UQDaO-B"
      },
      "source": [
        "\n",
        "\n",
        "\n",
        "# 출처: https://rfriend.tistory.com/431 [R, Python 분석과 프로그래밍의 친구 (by R Friend)]"
      ],
      "execution_count": null,
      "outputs": []
    },
    {
      "cell_type": "code",
      "metadata": {
        "id": "lSeYyL5gV3hE"
      },
      "source": [
        ""
      ],
      "execution_count": null,
      "outputs": []
    }
  ]
}