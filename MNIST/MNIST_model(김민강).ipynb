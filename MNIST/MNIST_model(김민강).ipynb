{
  "nbformat": 4,
  "nbformat_minor": 0,
  "metadata": {
    "colab": {
      "name": "MNIST-model(김민강).ipynb",
      "private_outputs": true,
      "provenance": [],
      "collapsed_sections": [],
      "authorship_tag": "ABX9TyO8OYV4n+b0sCVaLWmXSFox",
      "include_colab_link": true
    },
    "kernelspec": {
      "name": "python3",
      "display_name": "Python 3"
    },
    "language_info": {
      "name": "python"
    }
  },
  "cells": [
    {
      "cell_type": "markdown",
      "metadata": {
        "id": "view-in-github",
        "colab_type": "text"
      },
      "source": [
        "<a href=\"https://colab.research.google.com/github/sgparrot/sgparrot2021Lv1-1/blob/main/MNIST_model(%EA%B9%80%EB%AF%BC%EA%B0%95).ipynb\" target=\"_parent\"><img src=\"https://colab.research.google.com/assets/colab-badge.svg\" alt=\"Open In Colab\"/></a>"
      ]
    },
    {
      "cell_type": "code",
      "metadata": {
        "id": "hxME_oXXfyAu"
      },
      "source": [
        "import numpy as np\n",
        "import matplotlib.pyplot as plt\n",
        "import tensorflow as tf\n",
        "from tensorflow.keras import layers\n",
        "from tensorflow.keras.utils import to_categorical\n",
        "from tensorflow.keras.models import Sequential\n",
        "from tensorflow.keras.layers import Conv2D, MaxPooling2D, Dense, Flatten"
      ],
      "execution_count": null,
      "outputs": []
    },
    {
      "cell_type": "code",
      "metadata": {
        "id": "cnBAQ1LOqtD_"
      },
      "source": [
        "(X_train, y_train), (X_test, y_test) = tf.keras.datasets.mnist.load_data()"
      ],
      "execution_count": null,
      "outputs": []
    },
    {
      "cell_type": "code",
      "metadata": {
        "id": "XdFbaw_UD-c_"
      },
      "source": [
        "plt.imshow(X_train[0])\n"
      ],
      "execution_count": null,
      "outputs": []
    },
    {
      "cell_type": "code",
      "metadata": {
        "id": "guyTs_HRv0tQ"
      },
      "source": [
        "plt.figure(figsize=(20, 10))\n",
        "for i in range(9):\n",
        "  plt.subplot(330+1+i)\n",
        "  plt.imshow(X_train[i])\n",
        "plt.show()"
      ],
      "execution_count": null,
      "outputs": []
    },
    {
      "cell_type": "code",
      "metadata": {
        "id": "DSq6yZQqZA-q"
      },
      "source": [
        "print(X_train.shape)\n",
        "print(y_train.shape)"
      ],
      "execution_count": null,
      "outputs": []
    },
    {
      "cell_type": "code",
      "metadata": {
        "id": "bTMGbw8YaLLN"
      },
      "source": [
        "X_train = X_train.reshape((X_train.shape[0],28,28,1))\n",
        "X_test = X_test.reshape((X_test.shape[0], 28,28,1))"
      ],
      "execution_count": null,
      "outputs": []
    },
    {
      "cell_type": "code",
      "metadata": {
        "id": "PbWKmBpT4LQw"
      },
      "source": [
        "#0과 1사이 값으로 Normalization\n",
        "\n",
        "X_train = X_train.astype(\"float32\") / 255\n",
        "X_test = X_test.astype(\"float32\") / 255"
      ],
      "execution_count": null,
      "outputs": []
    },
    {
      "cell_type": "code",
      "metadata": {
        "id": "DsGczvrh4ZlQ"
      },
      "source": [
        "#one-hot 인코딩\n",
        "\n",
        "y_train = to_categorical(y_train, 10)\n",
        "y_test = to_categorical(y_test, 10)"
      ],
      "execution_count": null,
      "outputs": []
    },
    {
      "cell_type": "code",
      "metadata": {
        "id": "3zarrHDW5Tvy"
      },
      "source": [
        "#여기까지 데이터 전처리"
      ],
      "execution_count": null,
      "outputs": []
    },
    {
      "cell_type": "code",
      "metadata": {
        "id": "vpU11KIWaub3"
      },
      "source": [
        "model = Sequential()\n",
        "model.add(Conv2D(32,(3,3), activation = 'relu', kernel_initializer ='he_uniform', input_shape = (28,28,1)))\n",
        "model.add(MaxPooling2D((2, 2)))\n",
        "model.add(Conv2D(64, (3,3), padding = 'same', activation=\"relu\"))\n",
        "model.add(MaxPooling2D((2, 2)))\n",
        "model.add(Flatten()) \n",
        "model.add(layers.Dropout(0.5)) #overfitting 방지\n",
        "model.add(Dense(32, activation = 'relu'))\n",
        "model.add(Dense(10, activation=\"softmax\"))\n",
        "  \n",
        "model.summary()"
      ],
      "execution_count": null,
      "outputs": []
    },
    {
      "cell_type": "code",
      "metadata": {
        "id": "lGEA697U6ryx"
      },
      "source": [
        "#모델 컴파일\n",
        "\n",
        "model.compile(optimizer = 'adam', loss = 'categorical_crossentropy', metrics = ['accuracy'])\n"
      ],
      "execution_count": null,
      "outputs": []
    },
    {
      "cell_type": "code",
      "metadata": {
        "id": "U7qzqsE87FH2"
      },
      "source": [
        "hist = model.fit(X_train, y_train, batch_size=100, epochs = 15, validation_split = 0.2, verbose = 1)"
      ],
      "execution_count": null,
      "outputs": []
    },
    {
      "cell_type": "code",
      "metadata": {
        "id": "0wepl5R-9E4_"
      },
      "source": [
        "#시각화\n",
        "\n",
        "\n",
        "def acc_loss_plot(hist):\n",
        "  fig, loss_ax=plt.subplots()\n",
        "  acc_ax=loss_ax.twinx()\n",
        "\n",
        "  loss_ax.plot(hist.history['loss'], 'y', label='train loss')\n",
        "  loss_ax.plot(hist.history['val_loss'], 'r', label='val loss')\n",
        "  loss_ax.set_xlabel('epoch')\n",
        "  loss_ax.set_ylabel('loss')\n",
        "  loss_ax.legend(loc='upper left')\n",
        "\n",
        "  acc_ax.plot(hist.history['accuracy'], 'b', label='train acc')\n",
        "  acc_ax.plot(hist.history['val_accuracy'], 'g', label='val acc')\n",
        "  acc_ax.set_ylabel('accuracy')\n",
        "  acc_ax.legend(loc='upper right')\n",
        "\n",
        "  plt.show()"
      ],
      "execution_count": null,
      "outputs": []
    },
    {
      "cell_type": "code",
      "metadata": {
        "id": "8b9TLrSF9FaG"
      },
      "source": [
        "print(\"baseline accuracy\")\n",
        "print(acc_loss_plot(hist))"
      ],
      "execution_count": null,
      "outputs": []
    },
    {
      "cell_type": "code",
      "metadata": {
        "id": "za6NY9EV2laj"
      },
      "source": [
        "score = model.evaluate(X_test, y_test, verbose = 0)\n",
        "print(score[0]) #test loss\n",
        "print(score[1]) #test accuracy"
      ],
      "execution_count": null,
      "outputs": []
    },
    {
      "cell_type": "code",
      "metadata": {
        "id": "xokKbRQLw8Bc"
      },
      "source": [
        "#예측 결과와 실제 값 비교\n",
        "predicted_result = model.predict(X_test)\n",
        "predicted_labels = np.argmax(predicted_result, axis = 1)\n",
        "test_labels = np.argmax(y_test, axis=1)\n",
        "print(predicted_labels[:10])\n",
        "print(test_labels[:10])\n"
      ],
      "execution_count": null,
      "outputs": []
    },
    {
      "cell_type": "code",
      "metadata": {
        "id": "DdAXK3DayEDD"
      },
      "source": [
        "#틀린 데이터 개수\n",
        "\n",
        "wrong_result = []\n",
        "\n",
        "for n in range(0, len(y_test)):\n",
        "    if predicted_labels[n] != test_labels[n]:\n",
        "        wrong_result.append(n)\n",
        "len(wrong_result)\n"
      ],
      "execution_count": null,
      "outputs": []
    },
    {
      "cell_type": "code",
      "metadata": {
        "id": "56ER_XfFyTn0"
      },
      "source": [
        "#틀린 것 중 랜덤하게 9개 확인\n",
        "\n",
        "import random\n",
        "\n",
        "wrong = random.choices(population= wrong_result, k=9)\n",
        "\n",
        "\n",
        "wrong"
      ],
      "execution_count": null,
      "outputs": []
    },
    {
      "cell_type": "code",
      "metadata": {
        "id": "9WBs62MDydLK"
      },
      "source": [
        "#틀린 데이터 시각화 \n",
        "\n",
        "plt.figure(figsize=(14, 12))\n",
        "\n",
        "for idx, n in enumerate(wrong):\n",
        "    plt.subplot(3, 3, idx + 1)\n",
        "    plt.imshow(X_test[n].reshape(28, 28), cmap = 'Greys', interpolation='nearest')\n",
        "    plt.title('True : ' + str(test_labels[n]) + ' Predict : ' + str(predicted_labels[n]))\n",
        "    plt.axis('off')\n",
        "    \n",
        "plt.show()"
      ],
      "execution_count": null,
      "outputs": []
    }
  ]
}
