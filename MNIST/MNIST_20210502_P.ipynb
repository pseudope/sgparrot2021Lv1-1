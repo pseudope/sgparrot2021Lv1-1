{
  "nbformat": 4,
  "nbformat_minor": 0,
  "metadata": {
    "kernelspec": {
      "name": "python3",
      "display_name": "Python 3",
      "language": "python"
    },
    "colab": {
      "name": "MNIST_20210502_P",
      "provenance": [],
      "collapsed_sections": [],
      "toc_visible": true,
      "include_colab_link": true
    },
    "language_info": {
      "name": "python",
      "version": "3.8.5",
      "mimetype": "text/x-python",
      "codemirror_mode": {
        "name": "ipython",
        "version": 3
      },
      "pygments_lexer": "ipython3",
      "nbconvert_exporter": "python",
      "file_extension": ".py"
    },
    "accelerator": "GPU"
  },
  "cells": [
    {
      "cell_type": "markdown",
      "metadata": {
        "id": "view-in-github",
        "colab_type": "text"
      },
      "source": [
        "<a href=\"https://colab.research.google.com/github/sgparrot/sgparrot2021Lv1-1/blob/main/MNIST/MNIST_20210502_P.ipynb\" target=\"_parent\"><img src=\"https://colab.research.google.com/assets/colab-badge.svg\" alt=\"Open In Colab\"/></a>"
      ]
    },
    {
      "cell_type": "markdown",
      "metadata": {
        "id": "9nKlTm1C1UtT"
      },
      "source": [
        "# MNIST Classification"
      ]
    },
    {
      "cell_type": "code",
      "metadata": {
        "execution": {
          "iopub.status.idle": "2021-04-28T18:25:32.570241Z",
          "shell.execute_reply": "2021-04-28T18:25:32.567233Z",
          "shell.execute_reply.started": "2021-04-28T18:25:22.442709Z"
        },
        "id": "bxlnAe1d1Utm"
      },
      "source": [
        "import os\n",
        "import math\n",
        "import argparse\n",
        "import time\n",
        "import random\n",
        "import json\n",
        "\n",
        "import pandas as pd\n",
        "import numpy as np\n",
        "import tensorflow as tf\n",
        "import matplotlib.pyplot as plt\n",
        "import seaborn as sns\n",
        "\n",
        "from tensorflow.keras import layers\n",
        "from tensorflow.keras import callbacks\n",
        "from tensorflow.keras.utils import to_categorical, Sequence\n",
        "from tensorflow.keras.models import Sequential\n",
        "from tensorflow.data import Dataset\n",
        "\n",
        "from copy import deepcopy\n",
        "\n",
        "### for notebook users\n",
        "%matplotlib inline"
      ],
      "execution_count": 1,
      "outputs": []
    },
    {
      "cell_type": "markdown",
      "metadata": {
        "id": "wSY4TUD61Utp"
      },
      "source": [
        "## Preprocessing & Inspecting"
      ]
    },
    {
      "cell_type": "markdown",
      "metadata": {
        "id": "p21ClbyT1Utp"
      },
      "source": [
        "### Defining Dataloader\n",
        "tensorflow.keras.utils.Sequence를 상속받아서 Dataloader라는 class를 생성"
      ]
    },
    {
      "cell_type": "code",
      "metadata": {
        "execution": {
          "iopub.execute_input": "2021-04-28T18:25:32.581208Z",
          "iopub.status.busy": "2021-04-28T18:25:32.581208Z",
          "iopub.status.idle": "2021-04-28T18:25:32.600155Z",
          "shell.execute_reply": "2021-04-28T18:25:32.599192Z",
          "shell.execute_reply.started": "2021-04-28T18:25:32.581208Z"
        },
        "id": "KWPENpNj1Utr"
      },
      "source": [
        "class Dataloader(Sequence):\n",
        "\n",
        "    def __init__(self, x_set, y_set, batch_size, shuffle=False):\n",
        "        self.x, self.y = x_set, y_set\n",
        "        self.batch_size = batch_size\n",
        "        self.shuffle=shuffle\n",
        "        self.on_epoch_end()\n",
        "\n",
        "    def __len__(self):\n",
        "        return math.ceil(len(self.x) / self.batch_size)\n",
        "\n",
        "    def __getitem__(self, idx):\n",
        "        indices = self.indices[idx*self.batch_size:(idx+1)*self.batch_size]\n",
        "\n",
        "        batch_x = [self.x[i] for i in indices]\n",
        "        batch_y = [self.y[i] for i in indices]\n",
        "\n",
        "        return np.array(batch_x), np.array(batch_y)\n",
        "    \n",
        "    ### Epoch이 한 번 끝날 때마다 shuffle\n",
        "    def on_epoch_end(self):\n",
        "        self.indices = np.arange(len(self.x))\n",
        "        if self.shuffle == True:\n",
        "            np.random.shuffle(self.indices)"
      ],
      "execution_count": 2,
      "outputs": []
    },
    {
      "cell_type": "markdown",
      "metadata": {
        "execution": {
          "iopub.execute_input": "2021-04-27T13:51:50.021678Z",
          "iopub.status.busy": "2021-04-27T13:51:50.020680Z",
          "iopub.status.idle": "2021-04-27T13:51:50.036637Z",
          "shell.execute_reply": "2021-04-27T13:51:50.034642Z",
          "shell.execute_reply.started": "2021-04-27T13:51:50.021678Z"
        },
        "id": "VqDuQ2fK1Uts"
      },
      "source": [
        "### Generating Datasets"
      ]
    },
    {
      "cell_type": "code",
      "metadata": {
        "execution": {
          "iopub.execute_input": "2021-04-28T18:25:32.603145Z",
          "iopub.status.busy": "2021-04-28T18:25:32.602147Z",
          "iopub.status.idle": "2021-04-28T18:25:33.280852Z",
          "shell.execute_reply": "2021-04-28T18:25:33.278856Z",
          "shell.execute_reply.started": "2021-04-28T18:25:32.603145Z"
        },
        "colab": {
          "base_uri": "https://localhost:8080/"
        },
        "id": "f6gS2CE51Utt",
        "outputId": "893cdd83-f1c9-4e8d-b48f-1428d07397a8"
      },
      "source": [
        "(X_train, y_train), (X_test, y_test) = tf.keras.datasets.mnist.load_data()\n",
        "\n",
        "print(\"X_train shape: {}\".format(X_train.shape))\n",
        "print(\"X_test shape: {}\".format(X_test.shape))"
      ],
      "execution_count": 3,
      "outputs": [
        {
          "output_type": "stream",
          "text": [
            "X_train shape: (60000, 28, 28)\n",
            "X_test shape: (10000, 28, 28)\n"
          ],
          "name": "stdout"
        }
      ]
    },
    {
      "cell_type": "markdown",
      "metadata": {
        "id": "E57kmBby1Utx"
      },
      "source": [
        "### Preprocessing"
      ]
    },
    {
      "cell_type": "code",
      "metadata": {
        "execution": {
          "iopub.execute_input": "2021-04-28T18:25:33.284842Z",
          "iopub.status.busy": "2021-04-28T18:25:33.283848Z",
          "iopub.status.idle": "2021-04-28T18:25:34.055777Z",
          "shell.execute_reply": "2021-04-28T18:25:34.052785Z",
          "shell.execute_reply.started": "2021-04-28T18:25:33.284842Z"
        },
        "id": "tS1jb3db1Utx"
      },
      "source": [
        "X_train = X_train.reshape(X_train.shape[0], 28, 28, 1)\n",
        "X_test = X_test.reshape(X_test.shape[0], 28, 28, 1)\n",
        "\n",
        "X_train = X_train.astype(\"float32\") / (2^8 - 1)\n",
        "X_test = X_test.astype(\"float32\") / (2^8 - 1)\n",
        "\n",
        "y_train = to_categorical(y_train, 10)   # 변수화 필요\n",
        "y_test = to_categorical(y_test, 10)     # 변수화 필요"
      ],
      "execution_count": 4,
      "outputs": []
    },
    {
      "cell_type": "code",
      "metadata": {
        "execution": {
          "iopub.execute_input": "2021-04-28T18:25:34.060764Z",
          "iopub.status.busy": "2021-04-28T18:25:34.059767Z",
          "iopub.status.idle": "2021-04-28T18:25:34.086695Z",
          "shell.execute_reply": "2021-04-28T18:25:34.082705Z",
          "shell.execute_reply.started": "2021-04-28T18:25:34.060764Z"
        },
        "id": "tzIiOWht1Uty"
      },
      "source": [
        "train_loader = Dataloader(X_train, y_train, 128, shuffle=True)   # 변수화 필요\n",
        "test_loader = Dataloader(X_test, y_test, 128, shuffle=False)     # 변수화 필요"
      ],
      "execution_count": 5,
      "outputs": []
    },
    {
      "cell_type": "markdown",
      "metadata": {
        "id": "bJyMyd0H1Utz"
      },
      "source": [
        "### Dataset Inspecting"
      ]
    },
    {
      "cell_type": "code",
      "metadata": {
        "execution": {
          "iopub.execute_input": "2021-04-28T18:25:34.091682Z",
          "iopub.status.busy": "2021-04-28T18:25:34.089687Z",
          "iopub.status.idle": "2021-04-28T18:25:34.129580Z",
          "shell.execute_reply": "2021-04-28T18:25:34.128582Z",
          "shell.execute_reply.started": "2021-04-28T18:25:34.091682Z"
        },
        "colab": {
          "base_uri": "https://localhost:8080/"
        },
        "id": "5ctsT5Gp1Ut0",
        "outputId": "8c62a290-9e19-4a72-96d7-e16658b66f76"
      },
      "source": [
        "### 임시로 한 개의 minibatch를 돌려보는 상황\n",
        "\n",
        "examples = enumerate(train_loader)\n",
        "batch_idx, (example_data, example_target) = next(examples)\n",
        "\n",
        "print(\"Target: {}\".format(example_target.shape))\n",
        "print(\"Data  : {}\".format(example_data.shape))"
      ],
      "execution_count": 6,
      "outputs": [
        {
          "output_type": "stream",
          "text": [
            "Target: (128, 10)\n",
            "Data  : (128, 28, 28, 1)\n"
          ],
          "name": "stdout"
        }
      ]
    },
    {
      "cell_type": "code",
      "metadata": {
        "execution": {
          "iopub.execute_input": "2021-04-28T18:25:34.132572Z",
          "iopub.status.busy": "2021-04-28T18:25:34.131575Z",
          "iopub.status.idle": "2021-04-28T18:25:37.080020Z",
          "shell.execute_reply": "2021-04-28T18:25:37.079021Z",
          "shell.execute_reply.started": "2021-04-28T18:25:34.132572Z"
        },
        "colab": {
          "base_uri": "https://localhost:8080/",
          "height": 657
        },
        "id": "-kWN_pFy1Ut1",
        "outputId": "600509ce-4e4a-48e7-9eae-a91cfe2bcd24"
      },
      "source": [
        "fig = plt.figure(figsize=(9, 9))\n",
        "\n",
        "for i in range(9):\n",
        "    plt.subplot(3, 3, 1 + i)\n",
        "    plt.tight_layout()\n",
        "    plt.imshow(tf.squeeze(example_data[i]), cmap=\"gray\", interpolation=\"none\")\n",
        "    target = np.where(example_target[i]==1)[0]\n",
        "    plt.title(\"Ground Truth: {}\".format(int(target)))\n",
        "\n",
        "plt.show()"
      ],
      "execution_count": 7,
      "outputs": [
        {
          "output_type": "display_data",
          "data": {
            "image/png": "[encoded data removed]",
            "text/plain": [
              "<Figure size 648x648 with 9 Axes>"
            ]
          },
          "metadata": {
            "tags": [],
            "needs_background": "light"
          }
        }
      ]
    },
    {
      "cell_type": "markdown",
      "metadata": {
        "id": "hWpeQLh21Ut2"
      },
      "source": [
        "## Modeling\n",
        "CNN Modeling도 OOP로 구현하고 싶었으나, 아직 이해도가 부족한 것 같습니다."
      ]
    },
    {
      "cell_type": "code",
      "metadata": {
        "execution": {
          "iopub.execute_input": "2021-04-28T18:25:37.086004Z",
          "iopub.status.busy": "2021-04-28T18:25:37.085006Z",
          "iopub.status.idle": "2021-04-28T18:25:37.111935Z",
          "shell.execute_reply": "2021-04-28T18:25:37.110936Z",
          "shell.execute_reply.started": "2021-04-28T18:25:37.086004Z"
        },
        "id": "bj0QHYTM1Ut2"
      },
      "source": [
        "def CNN(act, initial, dropout, use_bn):\n",
        "    \n",
        "    if act == \"ReLU\" or act == \"relu\":\n",
        "        activation = \"relu\"\n",
        "    elif act == \"sigmoid\":\n",
        "        activation = \"sigmoid\"\n",
        "    elif act == \"tanh\":\n",
        "         activation = \"tanh\"\n",
        "    elif act == \"softmax\":\n",
        "        activation = \"softmax\"\n",
        "    else:\n",
        "        raise ValueError(\"Not a valid activation function.\")\n",
        "    \n",
        "    if initial == \"Xavier\" or initial == \"glorot\":\n",
        "        initializer = \"glorot_uniform\"\n",
        "    elif initial == \"he\":\n",
        "        initializer = \"he_uniform\"\n",
        "    else:\n",
        "        raise ValueError(\"Not a valid initializer.\")\n",
        "    \n",
        "    model=Sequential()\n",
        "\n",
        "    model.add(layers.Conv2D(filters=64, kernel_size=(5, 5), padding=\"Same\", activation=activation, input_shape=(28, 28, 1)))\n",
        "    if use_bn == True:\n",
        "        model.add(layers.BatchNormalization())\n",
        "\n",
        "    model.add(layers.Conv2D(filters=64, kernel_size=(5, 5), padding=\"Same\", activation=activation))\n",
        "    if use_bn == True:\n",
        "        model.add(layers.BatchNormalization())\n",
        "\n",
        "    model.add(layers.MaxPool2D(pool_size=(2, 2)))\n",
        "    model.add(layers.Dropout(dropout))\n",
        "\n",
        "    model.add(layers.Conv2D(filters=64, kernel_size=(3, 3), padding=\"Same\", activation=activation))\n",
        "    if use_bn == True:\n",
        "        model.add(layers.BatchNormalization())\n",
        "\n",
        "    model.add(layers.Conv2D(filters=64, kernel_size=(3, 3), padding=\"Same\", activation=activation))\n",
        "    if use_bn == True:\n",
        "        model.add(layers.BatchNormalization())\n",
        "    model.add(layers.MaxPool2D(pool_size=(2, 2), strides=(2, 2)))\n",
        "    model.add(layers.Dropout(dropout))\n",
        "\n",
        "    model.add(layers.Conv2D(filters=64, kernel_size=(3, 3), padding=\"Same\", activation=activation))\n",
        "    if use_bn == True:\n",
        "        model.add(layers.BatchNormalization())\n",
        "    model.add(layers.Dropout(dropout))\n",
        "\n",
        "    model.add(layers.Flatten())\n",
        "    model.add(layers.Dense(256, activation=activation))\n",
        "    if use_bn == True:\n",
        "        model.add(layers.BatchNormalization())\n",
        "    model.add(layers.Dropout(dropout))\n",
        "\n",
        "    model.add(layers.Dense(10, activation=\"softmax\"))\n",
        "    print(model.summary())\n",
        "    \n",
        "    return model"
      ],
      "execution_count": 8,
      "outputs": []
    },
    {
      "cell_type": "markdown",
      "metadata": {
        "id": "JDJMq-QL1Ut4"
      },
      "source": [
        "## Experiment"
      ]
    },
    {
      "cell_type": "code",
      "metadata": {
        "execution": {
          "iopub.execute_input": "2021-04-28T18:25:37.116922Z",
          "iopub.status.busy": "2021-04-28T18:25:37.114926Z",
          "iopub.status.idle": "2021-04-28T18:25:37.162799Z",
          "shell.execute_reply": "2021-04-28T18:25:37.153827Z",
          "shell.execute_reply.started": "2021-04-28T18:25:37.116922Z"
        },
        "id": "k8gmUmzb1Ut5"
      },
      "source": [
        "def experiment(args):\n",
        "    \n",
        "    model = CNN(act=args.act, initial=args.initializer,\n",
        "                dropout=args.dropout, use_bn=args.use_bn)\n",
        "    \n",
        "    if args.optimizer == \"SGD\":\n",
        "        optimizer = tf.keras.optimizers.SGD(learning_rate=args.lr)\n",
        "    elif args.optimizer == \"RMSprop\":\n",
        "        optimizer = tf.keras.optimizers.RMSprop(learning_rate=args.lr)\n",
        "    elif args.optimizer == \"Adam\" or args.optimizer == \"ADAM\":\n",
        "        optimizer = tf.keras.optimizers.Adam(learning_rate=args.lr)\n",
        "    else:\n",
        "        raise ValueError(\"Invalid Optimizer Choice.\")\n",
        "    \n",
        "    model.compile(optimizer=optimizer, loss=\"categorical_crossentropy\",\n",
        "                  metrics=[\"accuracy\"])\n",
        "    \n",
        "    hist = model.fit(X_train, y_train, batch_size=args.train_batch_size,\n",
        "                 epochs=args.epoch, validation_split=0.2, verbose=1,\n",
        "                 callbacks=callback_list)\n",
        "    \n",
        "    return hist, model"
      ],
      "execution_count": 9,
      "outputs": []
    },
    {
      "cell_type": "markdown",
      "metadata": {
        "id": "U8szLeKM1Ut6"
      },
      "source": [
        "## Hyperparametrization\n",
        "변수를 조절하는 부분입니다. 변수를 바꾸어가며 실험해보고 싶은 부분은 list로 목록을 만든 후 <br>\n",
        "for문을 이용하여 실행하면 되고, 적절한 값을 찾은 변수는 직접 입력하면 됩니다."
      ]
    },
    {
      "cell_type": "code",
      "metadata": {
        "execution": {
          "iopub.execute_input": "2021-04-28T18:52:52.978493Z",
          "iopub.status.busy": "2021-04-28T18:52:52.978493Z",
          "iopub.status.idle": "2021-04-28T18:52:53.005420Z",
          "shell.execute_reply": "2021-04-28T18:52:53.003423Z",
          "shell.execute_reply.started": "2021-04-28T18:52:52.978493Z"
        },
        "id": "D-oGKi_K1Ut7"
      },
      "source": [
        "parser = argparse.ArgumentParser()\n",
        "args = parser.parse_args(\"\")\n",
        "\n",
        "### Model\n",
        "# args.model_code = \"VGG16\"    # 실행할 모델 이름 (미구현)\n",
        "args.in_dim = 1 * 28 * 28      # 파일 크기\n",
        "# args.hidden_dim = 100        # MLP의 Hidden Dimension (미구현)\n",
        "args.out_dim = 10              # 0부터 9까지, 총 10가지\n",
        "args.act = \"ReLU\"              # Activation Function(ReLU, sigmoid, tanh, softmax 구현) -> ReLU 확정\n",
        "#args.kernel_size = 3          # filter의 size\n",
        "\n",
        "### Regulization\n",
        "args.l2 = 5e-5                 # l2 정규화 alpha 값 -> 0.00005 확정\n",
        "args.use_bn = True             # Batch Normalization 사용 여부 -> True 확정\n",
        "args.dropout = 0.2             # dropout 비율 -> 0.2 확정\n",
        "args.initializer = \"Xavier\"    # Initializer 설정(Xavier, he 구현) -> Xavier 확정\n",
        "\n",
        "### Training & Test\n",
        "args.optimizer = \"RMSprop\"     # Optimizer 설정(SGD, RMSprop, Adam 구현) -> RMSprop 확정\n",
        "args.lr = 5e-5                 # Learning Rate -> 0.0005 확정\n",
        "args.epoch = 20                # Epoch 횟수 -> 20 확정\n",
        "args.train_batch_size = 2**7   # Training Batch Size\n",
        "args.test_batch_size = 2**7    # Test Batch Size\n",
        "args.monitor = \"val_accuracy\"  # loss, val_loss, accuracy, val_accuracy -> val_accuracy 확정\n",
        "args.patience = 3              # callback function의 patience 값 (0 이상의 정수) -> 못 정함 ㅠ\n",
        "\n",
        "### Experiment Variable\n",
        "\n",
        "name_var1 = \"monitor\"\n",
        "name_var2 = \"patience\"\n",
        "\n",
        "list_var1 = [\"val_accuracy\"]\n",
        "list_var2 = [0, 1, 2]"
      ],
      "execution_count": 10,
      "outputs": []
    },
    {
      "cell_type": "markdown",
      "metadata": {
        "id": "4Ai5LyUKBRtA"
      },
      "source": [
        "### Defining Callback Function"
      ]
    },
    {
      "cell_type": "code",
      "metadata": {
        "id": "9iiUF3RjBRY0"
      },
      "source": [
        "scheduler = lambda epoch: 0.001 - args.lr + 0.02 * (0.5**(1 + epoch))\n",
        "\n",
        "lr_scheduler = callbacks.LearningRateScheduler(scheduler)\n",
        "\n",
        "#lr_reduction = callbacks.ReduceLROnPlateau(monitor=args.monitor, patience=args.patience, verbose=1, factor=0.5, min_lr=1e-4)\n",
        "\n",
        "filename = \"checkpoint.json\"\n",
        "checkpoint = callbacks.ModelCheckpoint(filename, monitor=args.monitor, verbose=1,\n",
        "                                       save_best_only=True, mode=\"auto\")\n",
        "\n",
        "earlystop = callbacks.EarlyStopping(monitor=args.monitor, min_delta=0,\n",
        "                                    patience=args.patience,verbose=0, mode=\"auto\",\n",
        "                                    baseline=None, restore_best_weights=False)\n",
        "\n",
        "callback_list = [lr_scheduler, earlystop]"
      ],
      "execution_count": 11,
      "outputs": []
    },
    {
      "cell_type": "markdown",
      "metadata": {
        "id": "-daw_-ks1Ut8"
      },
      "source": [
        "## Evaluation"
      ]
    },
    {
      "cell_type": "code",
      "metadata": {
        "execution": {
          "iopub.execute_input": "2021-04-28T18:25:37.208676Z",
          "iopub.status.busy": "2021-04-28T18:25:37.207679Z",
          "iopub.status.idle": "2021-04-28T18:50:29.752060Z",
          "shell.execute_reply": "2021-04-28T18:50:29.750064Z",
          "shell.execute_reply.started": "2021-04-28T18:25:37.208676Z"
        },
        "id": "MyYqwi3s1Ut9",
        "colab": {
          "base_uri": "https://localhost:8080/"
        },
        "outputId": "26a147bc-9152-4e7d-9950-f8c1ad51b57a"
      },
      "source": [
        "model_list = []\n",
        "hist_list = []\n",
        "\n",
        "count = 0\n",
        "\n",
        "for var1 in list_var1:\n",
        "    for var2 in list_var2:\n",
        "        \n",
        "        setattr(args, name_var1, var1)   # args.name_var1 = var1과 같은 문법\n",
        "        setattr(args, name_var2, var2)\n",
        "        \n",
        "        print(args)\n",
        "        \n",
        "        hist, model = experiment(deepcopy(args))\n",
        "        \n",
        "        model_list.append(model)\n",
        "        hist_list.append(hist)"
      ],
      "execution_count": 12,
      "outputs": [
        {
          "output_type": "stream",
          "text": [
            "Namespace(act='ReLU', dropout=0.2, epoch=20, in_dim=784, initializer='Xavier', l2=5e-05, lr=5e-05, monitor='val_accuracy', optimizer='RMSprop', out_dim=10, patience=0, test_batch_size=128, train_batch_size=128, use_bn=True)\n",
            "Model: \"sequential\"\n",
            "_________________________________________________________________\n",
            "Layer (type)                 Output Shape              Param #   \n",
            "=================================================================\n",
            "conv2d (Conv2D)              (None, 28, 28, 64)        1664      \n",
            "_________________________________________________________________\n",
            "batch_normalization (BatchNo (None, 28, 28, 64)        256       \n",
            "_________________________________________________________________\n",
            "conv2d_1 (Conv2D)            (None, 28, 28, 64)        102464    \n",
            "_________________________________________________________________\n",
            "batch_normalization_1 (Batch (None, 28, 28, 64)        256       \n",
            "_________________________________________________________________\n",
            "max_pooling2d (MaxPooling2D) (None, 14, 14, 64)        0         \n",
            "_________________________________________________________________\n",
            "dropout (Dropout)            (None, 14, 14, 64)        0         \n",
            "_________________________________________________________________\n",
            "conv2d_2 (Conv2D)            (None, 14, 14, 64)        36928     \n",
            "_________________________________________________________________\n",
            "batch_normalization_2 (Batch (None, 14, 14, 64)        256       \n",
            "_________________________________________________________________\n",
            "conv2d_3 (Conv2D)            (None, 14, 14, 64)        36928     \n",
            "_________________________________________________________________\n",
            "batch_normalization_3 (Batch (None, 14, 14, 64)        256       \n",
            "_________________________________________________________________\n",
            "max_pooling2d_1 (MaxPooling2 (None, 7, 7, 64)          0         \n",
            "_________________________________________________________________\n",
            "dropout_1 (Dropout)          (None, 7, 7, 64)          0         \n",
            "_________________________________________________________________\n",
            "conv2d_4 (Conv2D)            (None, 7, 7, 64)          36928     \n",
            "_________________________________________________________________\n",
            "batch_normalization_4 (Batch (None, 7, 7, 64)          256       \n",
            "_________________________________________________________________\n",
            "dropout_2 (Dropout)          (None, 7, 7, 64)          0         \n",
            "_________________________________________________________________\n",
            "flatten (Flatten)            (None, 3136)              0         \n",
            "_________________________________________________________________\n",
            "dense (Dense)                (None, 256)               803072    \n",
            "_________________________________________________________________\n",
            "batch_normalization_5 (Batch (None, 256)               1024      \n",
            "_________________________________________________________________\n",
            "dropout_3 (Dropout)          (None, 256)               0         \n",
            "_________________________________________________________________\n",
            "dense_1 (Dense)              (None, 10)                2570      \n",
            "=================================================================\n",
            "Total params: 1,022,858\n",
            "Trainable params: 1,021,706\n",
            "Non-trainable params: 1,152\n",
            "_________________________________________________________________\n",
            "None\n",
            "Epoch 1/20\n",
            "375/375 [==============================] - 12s 21ms/step - loss: 0.4696 - accuracy: 0.8652 - val_loss: 0.1649 - val_accuracy: 0.9752\n",
            "Epoch 2/20\n",
            "375/375 [==============================] - 7s 19ms/step - loss: 0.0471 - accuracy: 0.9856 - val_loss: 0.0430 - val_accuracy: 0.9885\n",
            "Epoch 3/20\n",
            "375/375 [==============================] - 7s 19ms/step - loss: 0.0266 - accuracy: 0.9917 - val_loss: 0.0299 - val_accuracy: 0.9922\n",
            "Epoch 4/20\n",
            "375/375 [==============================] - 7s 19ms/step - loss: 0.0165 - accuracy: 0.9950 - val_loss: 0.0284 - val_accuracy: 0.9916\n",
            "Epoch 5/20\n",
            "375/375 [==============================] - 7s 19ms/step - loss: 0.0123 - accuracy: 0.9959 - val_loss: 0.0242 - val_accuracy: 0.9936\n",
            "Epoch 6/20\n",
            "375/375 [==============================] - 7s 19ms/step - loss: 0.0097 - accuracy: 0.9970 - val_loss: 0.0245 - val_accuracy: 0.9933\n",
            "Epoch 7/20\n",
            "375/375 [==============================] - 7s 19ms/step - loss: 0.0078 - accuracy: 0.9978 - val_loss: 0.0223 - val_accuracy: 0.9946\n",
            "Epoch 8/20\n",
            "375/375 [==============================] - 7s 19ms/step - loss: 0.0066 - accuracy: 0.9980 - val_loss: 0.0244 - val_accuracy: 0.9937\n",
            "Epoch 9/20\n",
            "375/375 [==============================] - 7s 19ms/step - loss: 0.0047 - accuracy: 0.9987 - val_loss: 0.0246 - val_accuracy: 0.9937\n",
            "Epoch 10/20\n",
            "375/375 [==============================] - 7s 20ms/step - loss: 0.0052 - accuracy: 0.9982 - val_loss: 0.0271 - val_accuracy: 0.9934\n",
            "Namespace(act='ReLU', dropout=0.2, epoch=20, in_dim=784, initializer='Xavier', l2=5e-05, lr=5e-05, monitor='val_accuracy', optimizer='RMSprop', out_dim=10, patience=1, test_batch_size=128, train_batch_size=128, use_bn=True)\n",
            "Model: \"sequential_1\"\n",
            "_________________________________________________________________\n",
            "Layer (type)                 Output Shape              Param #   \n",
            "=================================================================\n",
            "conv2d_5 (Conv2D)            (None, 28, 28, 64)        1664      \n",
            "_________________________________________________________________\n",
            "batch_normalization_6 (Batch (None, 28, 28, 64)        256       \n",
            "_________________________________________________________________\n",
            "conv2d_6 (Conv2D)            (None, 28, 28, 64)        102464    \n",
            "_________________________________________________________________\n",
            "batch_normalization_7 (Batch (None, 28, 28, 64)        256       \n",
            "_________________________________________________________________\n",
            "max_pooling2d_2 (MaxPooling2 (None, 14, 14, 64)        0         \n",
            "_________________________________________________________________\n",
            "dropout_4 (Dropout)          (None, 14, 14, 64)        0         \n",
            "_________________________________________________________________\n",
            "conv2d_7 (Conv2D)            (None, 14, 14, 64)        36928     \n",
            "_________________________________________________________________\n",
            "batch_normalization_8 (Batch (None, 14, 14, 64)        256       \n",
            "_________________________________________________________________\n",
            "conv2d_8 (Conv2D)            (None, 14, 14, 64)        36928     \n",
            "_________________________________________________________________\n",
            "batch_normalization_9 (Batch (None, 14, 14, 64)        256       \n",
            "_________________________________________________________________\n",
            "max_pooling2d_3 (MaxPooling2 (None, 7, 7, 64)          0         \n",
            "_________________________________________________________________\n",
            "dropout_5 (Dropout)          (None, 7, 7, 64)          0         \n",
            "_________________________________________________________________\n",
            "conv2d_9 (Conv2D)            (None, 7, 7, 64)          36928     \n",
            "_________________________________________________________________\n",
            "batch_normalization_10 (Batc (None, 7, 7, 64)          256       \n",
            "_________________________________________________________________\n",
            "dropout_6 (Dropout)          (None, 7, 7, 64)          0         \n",
            "_________________________________________________________________\n",
            "flatten_1 (Flatten)          (None, 3136)              0         \n",
            "_________________________________________________________________\n",
            "dense_2 (Dense)              (None, 256)               803072    \n",
            "_________________________________________________________________\n",
            "batch_normalization_11 (Batc (None, 256)               1024      \n",
            "_________________________________________________________________\n",
            "dropout_7 (Dropout)          (None, 256)               0         \n",
            "_________________________________________________________________\n",
            "dense_3 (Dense)              (None, 10)                2570      \n",
            "=================================================================\n",
            "Total params: 1,022,858\n",
            "Trainable params: 1,021,706\n",
            "Non-trainable params: 1,152\n",
            "_________________________________________________________________\n",
            "None\n",
            "Epoch 1/20\n",
            "375/375 [==============================] - 9s 20ms/step - loss: 0.4171 - accuracy: 0.8844 - val_loss: 0.1240 - val_accuracy: 0.9771\n",
            "Epoch 2/20\n",
            "375/375 [==============================] - 7s 20ms/step - loss: 0.0481 - accuracy: 0.9856 - val_loss: 0.0528 - val_accuracy: 0.9862\n",
            "Epoch 3/20\n",
            "375/375 [==============================] - 7s 20ms/step - loss: 0.0247 - accuracy: 0.9928 - val_loss: 0.0392 - val_accuracy: 0.9894\n",
            "Epoch 4/20\n",
            "375/375 [==============================] - 7s 20ms/step - loss: 0.0173 - accuracy: 0.9947 - val_loss: 0.0296 - val_accuracy: 0.9926\n",
            "Epoch 5/20\n",
            "375/375 [==============================] - 7s 20ms/step - loss: 0.0125 - accuracy: 0.9962 - val_loss: 0.0269 - val_accuracy: 0.9933\n",
            "Epoch 6/20\n",
            "375/375 [==============================] - 7s 20ms/step - loss: 0.0073 - accuracy: 0.9979 - val_loss: 0.0230 - val_accuracy: 0.9940\n",
            "Epoch 7/20\n",
            "375/375 [==============================] - 7s 20ms/step - loss: 0.0063 - accuracy: 0.9984 - val_loss: 0.0259 - val_accuracy: 0.9938\n",
            "Epoch 8/20\n",
            "375/375 [==============================] - 7s 20ms/step - loss: 0.0055 - accuracy: 0.9984 - val_loss: 0.0261 - val_accuracy: 0.9942\n",
            "Epoch 9/20\n",
            "375/375 [==============================] - 7s 20ms/step - loss: 0.0056 - accuracy: 0.9981 - val_loss: 0.0249 - val_accuracy: 0.9947\n",
            "Epoch 10/20\n",
            "375/375 [==============================] - 7s 20ms/step - loss: 0.0046 - accuracy: 0.9985 - val_loss: 0.0230 - val_accuracy: 0.9947\n",
            "Epoch 11/20\n",
            "375/375 [==============================] - 7s 20ms/step - loss: 0.0041 - accuracy: 0.9987 - val_loss: 0.0246 - val_accuracy: 0.9950\n",
            "Epoch 12/20\n",
            "375/375 [==============================] - 7s 20ms/step - loss: 0.0039 - accuracy: 0.9988 - val_loss: 0.0270 - val_accuracy: 0.9942\n",
            "Epoch 13/20\n",
            "375/375 [==============================] - 7s 20ms/step - loss: 0.0030 - accuracy: 0.9990 - val_loss: 0.0294 - val_accuracy: 0.9938\n",
            "Epoch 14/20\n",
            "375/375 [==============================] - 7s 20ms/step - loss: 0.0038 - accuracy: 0.9990 - val_loss: 0.0289 - val_accuracy: 0.9943\n",
            "Namespace(act='ReLU', dropout=0.2, epoch=20, in_dim=784, initializer='Xavier', l2=5e-05, lr=5e-05, monitor='val_accuracy', optimizer='RMSprop', out_dim=10, patience=2, test_batch_size=128, train_batch_size=128, use_bn=True)\n",
            "Model: \"sequential_2\"\n",
            "_________________________________________________________________\n",
            "Layer (type)                 Output Shape              Param #   \n",
            "=================================================================\n",
            "conv2d_10 (Conv2D)           (None, 28, 28, 64)        1664      \n",
            "_________________________________________________________________\n",
            "batch_normalization_12 (Batc (None, 28, 28, 64)        256       \n",
            "_________________________________________________________________\n",
            "conv2d_11 (Conv2D)           (None, 28, 28, 64)        102464    \n",
            "_________________________________________________________________\n",
            "batch_normalization_13 (Batc (None, 28, 28, 64)        256       \n",
            "_________________________________________________________________\n",
            "max_pooling2d_4 (MaxPooling2 (None, 14, 14, 64)        0         \n",
            "_________________________________________________________________\n",
            "dropout_8 (Dropout)          (None, 14, 14, 64)        0         \n",
            "_________________________________________________________________\n",
            "conv2d_12 (Conv2D)           (None, 14, 14, 64)        36928     \n",
            "_________________________________________________________________\n",
            "batch_normalization_14 (Batc (None, 14, 14, 64)        256       \n",
            "_________________________________________________________________\n",
            "conv2d_13 (Conv2D)           (None, 14, 14, 64)        36928     \n",
            "_________________________________________________________________\n",
            "batch_normalization_15 (Batc (None, 14, 14, 64)        256       \n",
            "_________________________________________________________________\n",
            "max_pooling2d_5 (MaxPooling2 (None, 7, 7, 64)          0         \n",
            "_________________________________________________________________\n",
            "dropout_9 (Dropout)          (None, 7, 7, 64)          0         \n",
            "_________________________________________________________________\n",
            "conv2d_14 (Conv2D)           (None, 7, 7, 64)          36928     \n",
            "_________________________________________________________________\n",
            "batch_normalization_16 (Batc (None, 7, 7, 64)          256       \n",
            "_________________________________________________________________\n",
            "dropout_10 (Dropout)         (None, 7, 7, 64)          0         \n",
            "_________________________________________________________________\n",
            "flatten_2 (Flatten)          (None, 3136)              0         \n",
            "_________________________________________________________________\n",
            "dense_4 (Dense)              (None, 256)               803072    \n",
            "_________________________________________________________________\n",
            "batch_normalization_17 (Batc (None, 256)               1024      \n",
            "_________________________________________________________________\n",
            "dropout_11 (Dropout)         (None, 256)               0         \n",
            "_________________________________________________________________\n",
            "dense_5 (Dense)              (None, 10)                2570      \n",
            "=================================================================\n",
            "Total params: 1,022,858\n",
            "Trainable params: 1,021,706\n",
            "Non-trainable params: 1,152\n",
            "_________________________________________________________________\n",
            "None\n",
            "Epoch 1/20\n",
            "375/375 [==============================] - 9s 20ms/step - loss: 0.4548 - accuracy: 0.8757 - val_loss: 0.1352 - val_accuracy: 0.9771\n",
            "Epoch 2/20\n",
            "375/375 [==============================] - 7s 20ms/step - loss: 0.0473 - accuracy: 0.9860 - val_loss: 0.0423 - val_accuracy: 0.9903\n",
            "Epoch 3/20\n",
            "375/375 [==============================] - 7s 20ms/step - loss: 0.0251 - accuracy: 0.9926 - val_loss: 0.0348 - val_accuracy: 0.9910\n",
            "Epoch 4/20\n",
            "375/375 [==============================] - 7s 20ms/step - loss: 0.0165 - accuracy: 0.9948 - val_loss: 0.0274 - val_accuracy: 0.9937\n",
            "Epoch 5/20\n",
            "375/375 [==============================] - 7s 20ms/step - loss: 0.0107 - accuracy: 0.9967 - val_loss: 0.0284 - val_accuracy: 0.9929\n",
            "Epoch 6/20\n",
            "375/375 [==============================] - 7s 20ms/step - loss: 0.0093 - accuracy: 0.9972 - val_loss: 0.0233 - val_accuracy: 0.9941\n",
            "Epoch 7/20\n",
            "375/375 [==============================] - 7s 20ms/step - loss: 0.0067 - accuracy: 0.9977 - val_loss: 0.0241 - val_accuracy: 0.9938\n",
            "Epoch 8/20\n",
            "375/375 [==============================] - 7s 20ms/step - loss: 0.0064 - accuracy: 0.9983 - val_loss: 0.0234 - val_accuracy: 0.9944\n",
            "Epoch 9/20\n",
            "375/375 [==============================] - 7s 20ms/step - loss: 0.0069 - accuracy: 0.9981 - val_loss: 0.0246 - val_accuracy: 0.9942\n",
            "Epoch 10/20\n",
            "375/375 [==============================] - 7s 20ms/step - loss: 0.0036 - accuracy: 0.9989 - val_loss: 0.0256 - val_accuracy: 0.9941\n",
            "Epoch 11/20\n",
            "375/375 [==============================] - 7s 20ms/step - loss: 0.0037 - accuracy: 0.9989 - val_loss: 0.0285 - val_accuracy: 0.9948\n",
            "Epoch 12/20\n",
            "375/375 [==============================] - 7s 20ms/step - loss: 0.0038 - accuracy: 0.9987 - val_loss: 0.0255 - val_accuracy: 0.9948\n",
            "Epoch 13/20\n",
            "375/375 [==============================] - 7s 20ms/step - loss: 0.0029 - accuracy: 0.9991 - val_loss: 0.0274 - val_accuracy: 0.9944\n",
            "Epoch 14/20\n",
            "375/375 [==============================] - 7s 20ms/step - loss: 0.0023 - accuracy: 0.9994 - val_loss: 0.0272 - val_accuracy: 0.9947\n"
          ],
          "name": "stdout"
        }
      ]
    },
    {
      "cell_type": "markdown",
      "metadata": {
        "id": "08WSFC4w1Ut-"
      },
      "source": [
        "### Visualization for Train & Validation"
      ]
    },
    {
      "cell_type": "code",
      "metadata": {
        "execution": {
          "iopub.execute_input": "2021-04-28T18:51:17.608803Z",
          "iopub.status.busy": "2021-04-28T18:51:17.607806Z",
          "iopub.status.idle": "2021-04-28T18:51:17.631741Z",
          "shell.execute_reply": "2021-04-28T18:51:17.630743Z",
          "shell.execute_reply.started": "2021-04-28T18:51:17.607806Z"
        },
        "id": "Ubdp1h_t1Ut_"
      },
      "source": [
        "def acc_loss_plot(hist):\n",
        "    \n",
        "    fit, loss_ax = plt.subplots()\n",
        "    acc_ax = loss_ax.twinx()\n",
        "    \n",
        "    loss_ax.plot(hist.history[\"loss\"], \"y\", label=\"train_loss\")\n",
        "    loss_ax.plot(hist.history[\"val_loss\"], \"r\", label=\"val_loss\")\n",
        "    loss_ax.set_xlabel(\"Epoch\")\n",
        "    loss_ax.set_ylabel(\"Loss\")\n",
        "    loss_ax.legend(loc = \"upper left\")\n",
        "    \n",
        "    acc_ax.plot(hist.history[\"accuracy\"], \"b\", label=\"train_acc\")\n",
        "    acc_ax.plot(hist.history[\"val_accuracy\"], \"g\", label=\"val_acc\")\n",
        "    acc_ax.set_ylabel(\"loss\")\n",
        "    acc_ax.legend(loc = \"upper right\")\n",
        "    \n",
        "    plt.show()"
      ],
      "execution_count": 13,
      "outputs": []
    },
    {
      "cell_type": "code",
      "metadata": {
        "execution": {
          "iopub.execute_input": "2021-04-28T18:51:19.210998Z",
          "iopub.status.busy": "2021-04-28T18:51:19.210998Z",
          "iopub.status.idle": "2021-04-28T18:51:24.171730Z",
          "shell.execute_reply": "2021-04-28T18:51:24.170732Z",
          "shell.execute_reply.started": "2021-04-28T18:51:19.210998Z"
        },
        "id": "lYjp5PWU1UuD",
        "colab": {
          "base_uri": "https://localhost:8080/",
          "height": 962
        },
        "outputId": "b7b74898-d991-4668-c8fe-7a36aa3f6bc8"
      },
      "source": [
        "count = 0\n",
        "\n",
        "for var1 in list_var1:\n",
        "    for var2 in list_var2:\n",
        "        \n",
        "        print(\"-{0}: {1}, {2}: {3}\"\n",
        "              .format(name_var1, var1, name_var2, var2))\n",
        "        \n",
        "        print(\"Train Loss: {0}, \\tTrain Accuracy: {1}\"\n",
        "              .format(hist_list[count].history[\"loss\"][-1],\n",
        "                     hist_list[count].history[\"accuracy\"][-1]))\n",
        "        print(\"Validation Loss: {0}, \\tValidation Accuracy: {1}\"\n",
        "              .format(hist_list[count].history[\"val_loss\"][-1],\n",
        "                     hist_list[count].history[\"val_accuracy\"][-1]))\n",
        "        \n",
        "        acc_loss_plot(hist_list[count])\n",
        "        plt.show()\n",
        "        \n",
        "        count +=1"
      ],
      "execution_count": 14,
      "outputs": [
        {
          "output_type": "stream",
          "text": [
            "-monitor: val_accuracy, patience: 0\n",
            "Train Loss: 0.005353602115064859, \tTrain Accuracy: 0.9980416893959045\n",
            "Validation Loss: 0.027084335684776306, \tValidation Accuracy: 0.9934166669845581\n"
          ],
          "name": "stdout"
        },
        {
          "output_type": "display_data",
          "data": {
            "image/png": "[encoded data removed]",
            "text/plain": [
              "<Figure size 432x288 with 2 Axes>"
            ]
          },
          "metadata": {
            "tags": [],
            "needs_background": "light"
          }
        },
        {
          "output_type": "stream",
          "text": [
            "-monitor: val_accuracy, patience: 1\n",
            "Train Loss: 0.0036934560630470514, \tTrain Accuracy: 0.9989791512489319\n",
            "Validation Loss: 0.028890972957015038, \tValidation Accuracy: 0.9943333268165588\n"
          ],
          "name": "stdout"
        },
        {
          "output_type": "display_data",
          "data": {
            "image/png": "[encoded data removed]",
            "text/plain": [
              "<Figure size 432x288 with 2 Axes>"
            ]
          },
          "metadata": {
            "tags": [],
            "needs_background": "light"
          }
        },
        {
          "output_type": "stream",
          "text": [
            "-monitor: val_accuracy, patience: 2\n",
            "Train Loss: 0.00296539394184947, \tTrain Accuracy: 0.9991666674613953\n",
            "Validation Loss: 0.02716425247490406, \tValidation Accuracy: 0.9946666955947876\n"
          ],
          "name": "stdout"
        },
        {
          "output_type": "display_data",
          "data": {
            "image/png": "[encoded data removed]",
            "text/plain": [
              "<Figure size 432x288 with 2 Axes>"
            ]
          },
          "metadata": {
            "tags": [],
            "needs_background": "light"
          }
        }
      ]
    },
    {
      "cell_type": "markdown",
      "metadata": {
        "id": "tbdXAyzW1UuD"
      },
      "source": [
        "## Test"
      ]
    },
    {
      "cell_type": "code",
      "metadata": {
        "execution": {
          "iopub.execute_input": "2021-04-28T18:51:34.711186Z",
          "iopub.status.busy": "2021-04-28T18:51:34.710190Z",
          "iopub.status.idle": "2021-04-28T18:51:50.370814Z",
          "shell.execute_reply": "2021-04-28T18:51:50.369816Z",
          "shell.execute_reply.started": "2021-04-28T18:51:34.710190Z"
        },
        "id": "KGsutV4W1UuE",
        "colab": {
          "base_uri": "https://localhost:8080/"
        },
        "outputId": "ffdaa3bf-d116-4118-e29c-de46ae0bd65d"
      },
      "source": [
        "count = 0\n",
        "\n",
        "for var1 in list_var1:\n",
        "    for var2 in list_var2:\n",
        "        \n",
        "        print(\"-{0}: {1}, {2}: {3}\"\n",
        "              .format(name_var1, var1, name_var2, var2))\n",
        "        \n",
        "        score = model_list[count].evaluate(X_test, y_test, verbose=0)\n",
        "        print(\"Test Loss: {}\".format(score[0]))\n",
        "        print(\"Test Accuracy: {}\\n\".format(score[1]))\n",
        "        \n",
        "        count += 1"
      ],
      "execution_count": 15,
      "outputs": [
        {
          "output_type": "stream",
          "text": [
            "-monitor: val_accuracy, patience: 0\n",
            "Test Loss: 0.015846863389015198\n",
            "Test Accuracy: 0.9958999752998352\n",
            "\n",
            "-monitor: val_accuracy, patience: 1\n",
            "Test Loss: 0.017170822247862816\n",
            "Test Accuracy: 0.9951000213623047\n",
            "\n",
            "-monitor: val_accuracy, patience: 2\n",
            "Test Loss: 0.01757797598838806\n",
            "Test Accuracy: 0.9958000183105469\n",
            "\n"
          ],
          "name": "stdout"
        }
      ]
    },
    {
      "cell_type": "markdown",
      "metadata": {
        "id": "A4KDsLtY4bVH"
      },
      "source": [
        "## FINAL RESULT"
      ]
    },
    {
      "cell_type": "code",
      "metadata": {
        "colab": {
          "base_uri": "https://localhost:8080/"
        },
        "id": "FAHyrLuaP3J9",
        "outputId": "a1dcc54e-be98-4716-ccd1-00eda0c69ee5"
      },
      "source": [
        "hist, model = experiment(deepcopy(args))"
      ],
      "execution_count": 16,
      "outputs": [
        {
          "output_type": "stream",
          "text": [
            "Model: \"sequential_3\"\n",
            "_________________________________________________________________\n",
            "Layer (type)                 Output Shape              Param #   \n",
            "=================================================================\n",
            "conv2d_15 (Conv2D)           (None, 28, 28, 64)        1664      \n",
            "_________________________________________________________________\n",
            "batch_normalization_18 (Batc (None, 28, 28, 64)        256       \n",
            "_________________________________________________________________\n",
            "conv2d_16 (Conv2D)           (None, 28, 28, 64)        102464    \n",
            "_________________________________________________________________\n",
            "batch_normalization_19 (Batc (None, 28, 28, 64)        256       \n",
            "_________________________________________________________________\n",
            "max_pooling2d_6 (MaxPooling2 (None, 14, 14, 64)        0         \n",
            "_________________________________________________________________\n",
            "dropout_12 (Dropout)         (None, 14, 14, 64)        0         \n",
            "_________________________________________________________________\n",
            "conv2d_17 (Conv2D)           (None, 14, 14, 64)        36928     \n",
            "_________________________________________________________________\n",
            "batch_normalization_20 (Batc (None, 14, 14, 64)        256       \n",
            "_________________________________________________________________\n",
            "conv2d_18 (Conv2D)           (None, 14, 14, 64)        36928     \n",
            "_________________________________________________________________\n",
            "batch_normalization_21 (Batc (None, 14, 14, 64)        256       \n",
            "_________________________________________________________________\n",
            "max_pooling2d_7 (MaxPooling2 (None, 7, 7, 64)          0         \n",
            "_________________________________________________________________\n",
            "dropout_13 (Dropout)         (None, 7, 7, 64)          0         \n",
            "_________________________________________________________________\n",
            "conv2d_19 (Conv2D)           (None, 7, 7, 64)          36928     \n",
            "_________________________________________________________________\n",
            "batch_normalization_22 (Batc (None, 7, 7, 64)          256       \n",
            "_________________________________________________________________\n",
            "dropout_14 (Dropout)         (None, 7, 7, 64)          0         \n",
            "_________________________________________________________________\n",
            "flatten_3 (Flatten)          (None, 3136)              0         \n",
            "_________________________________________________________________\n",
            "dense_6 (Dense)              (None, 256)               803072    \n",
            "_________________________________________________________________\n",
            "batch_normalization_23 (Batc (None, 256)               1024      \n",
            "_________________________________________________________________\n",
            "dropout_15 (Dropout)         (None, 256)               0         \n",
            "_________________________________________________________________\n",
            "dense_7 (Dense)              (None, 10)                2570      \n",
            "=================================================================\n",
            "Total params: 1,022,858\n",
            "Trainable params: 1,021,706\n",
            "Non-trainable params: 1,152\n",
            "_________________________________________________________________\n",
            "None\n",
            "Epoch 1/20\n",
            "375/375 [==============================] - 9s 20ms/step - loss: 0.4551 - accuracy: 0.8789 - val_loss: 0.3016 - val_accuracy: 0.9545\n",
            "Epoch 2/20\n",
            "375/375 [==============================] - 7s 20ms/step - loss: 0.0531 - accuracy: 0.9850 - val_loss: 0.0366 - val_accuracy: 0.9910\n",
            "Epoch 3/20\n",
            "375/375 [==============================] - 7s 20ms/step - loss: 0.0264 - accuracy: 0.9917 - val_loss: 0.0296 - val_accuracy: 0.9927\n",
            "Epoch 4/20\n",
            "375/375 [==============================] - 7s 20ms/step - loss: 0.0175 - accuracy: 0.9945 - val_loss: 0.0253 - val_accuracy: 0.9931\n",
            "Epoch 5/20\n",
            "375/375 [==============================] - 7s 20ms/step - loss: 0.0134 - accuracy: 0.9959 - val_loss: 0.0285 - val_accuracy: 0.9927\n",
            "Epoch 6/20\n",
            "375/375 [==============================] - 7s 20ms/step - loss: 0.0103 - accuracy: 0.9967 - val_loss: 0.0280 - val_accuracy: 0.9929\n",
            "Epoch 7/20\n",
            "375/375 [==============================] - 7s 20ms/step - loss: 0.0091 - accuracy: 0.9974 - val_loss: 0.0264 - val_accuracy: 0.9935\n",
            "Epoch 8/20\n",
            "375/375 [==============================] - 7s 20ms/step - loss: 0.0070 - accuracy: 0.9979 - val_loss: 0.0267 - val_accuracy: 0.9938\n",
            "Epoch 9/20\n",
            "375/375 [==============================] - 7s 20ms/step - loss: 0.0070 - accuracy: 0.9977 - val_loss: 0.0262 - val_accuracy: 0.9943\n",
            "Epoch 10/20\n",
            "375/375 [==============================] - 7s 20ms/step - loss: 0.0047 - accuracy: 0.9985 - val_loss: 0.0262 - val_accuracy: 0.9935\n",
            "Epoch 11/20\n",
            "375/375 [==============================] - 7s 20ms/step - loss: 0.0049 - accuracy: 0.9985 - val_loss: 0.0288 - val_accuracy: 0.9933\n",
            "Epoch 12/20\n",
            "375/375 [==============================] - 7s 20ms/step - loss: 0.0048 - accuracy: 0.9985 - val_loss: 0.0297 - val_accuracy: 0.9936\n"
          ],
          "name": "stdout"
        }
      ]
    },
    {
      "cell_type": "code",
      "metadata": {
        "colab": {
          "base_uri": "https://localhost:8080/",
          "height": 314
        },
        "id": "9UoU-UTSPx6V",
        "outputId": "5d09c927-e691-4a47-ac8d-110f8080faf2"
      },
      "source": [
        "print(\"baseline accuracy\")\n",
        "print(acc_loss_plot(hist))"
      ],
      "execution_count": 17,
      "outputs": [
        {
          "output_type": "stream",
          "text": [
            "baseline accuracy\n"
          ],
          "name": "stdout"
        },
        {
          "output_type": "display_data",
          "data": {
            "image/png": "[encoded data removed]",
            "text/plain": [
              "<Figure size 432x288 with 2 Axes>"
            ]
          },
          "metadata": {
            "tags": [],
            "needs_background": "light"
          }
        },
        {
          "output_type": "stream",
          "text": [
            "None\n"
          ],
          "name": "stdout"
        }
      ]
    },
    {
      "cell_type": "code",
      "metadata": {
        "colab": {
          "base_uri": "https://localhost:8080/"
        },
        "id": "1jl2K0wVQKsD",
        "outputId": "1968a9a5-400b-4637-8d1c-46019e065be0"
      },
      "source": [
        "score = model.evaluate(X_test, y_test, verbose=0)\n",
        "print(\"Test Loss: {}\".format(score[0]))\n",
        "print(\"Test Accuracy: {}\".format(score[1]))"
      ],
      "execution_count": 18,
      "outputs": [
        {
          "output_type": "stream",
          "text": [
            "Test Loss: 0.017231548205018044\n",
            "Test Accuracy: 0.995199978351593\n"
          ],
          "name": "stdout"
        }
      ]
    },
    {
      "cell_type": "markdown",
      "metadata": {
        "id": "BEgsc_M9kGle"
      },
      "source": [
        "### Review"
      ]
    },
    {
      "cell_type": "code",
      "metadata": {
        "colab": {
          "base_uri": "https://localhost:8080/"
        },
        "id": "KOQLzWZ5Jnyt",
        "outputId": "9d8f6506-93f3-45e8-b245-ff9d58b88706"
      },
      "source": [
        "wrong_result = []\n",
        "\n",
        "pred_result = model.predict(X_test)\n",
        "pred_labels = np.argmax(pred_result, axis = 1)\n",
        "test_labels = np.argmax(y_test, axis=1)\n",
        "\n",
        "for i in range(0, len(y_test)):\n",
        "    if pred_labels[i] != test_labels[i]:\n",
        "        wrong_result.append(i)\n",
        "\n",
        "num_wrong = len(wrong_result)\n",
        "sqrt_num_wrong = math.ceil(math.sqrt(num_wrong))\n",
        "\n",
        "print(\"{0} data were not matched correctly.\".format(num_wrong))"
      ],
      "execution_count": 20,
      "outputs": [
        {
          "output_type": "stream",
          "text": [
            "48 data were not matched correctly.\n"
          ],
          "name": "stdout"
        }
      ]
    },
    {
      "cell_type": "code",
      "metadata": {
        "colab": {
          "base_uri": "https://localhost:8080/",
          "height": 826
        },
        "id": "6npnCAh7Jnyt",
        "outputId": "956f55e1-2619-46f3-fa91-d0b090a048b6"
      },
      "source": [
        "#틀린 데이터 시각화 \n",
        "\n",
        "plt.figure(figsize=(2 * sqrt_num_wrong, 2 * sqrt_num_wrong))\n",
        "\n",
        "for i, j in enumerate(wrong_result):\n",
        "\n",
        "    plt.subplot(sqrt_num_wrong, sqrt_num_wrong, i + 1)\n",
        "    plt.imshow(tf.squeeze(X_test[j]), cmap = 'gray', interpolation='none')\n",
        "    plt.title(\"True: {0}, Pred: {1}\".format(test_labels[j], pred_labels[j]))\n",
        "    plt.axis('off')\n",
        "    \n",
        "plt.show()\n",
        "\n",
        "fig = plt.figure(figsize=(9, 9))"
      ],
      "execution_count": 21,
      "outputs": [
        {
          "output_type": "display_data",
          "data": {
            "image/png": "[encoded data removed]",
            "text/plain": [
              "<Figure size 1008x1008 with 48 Axes>"
            ]
          },
          "metadata": {
            "tags": [],
            "needs_background": "light"
          }
        },
        {
          "output_type": "display_data",
          "data": {
            "text/plain": [
              "<Figure size 648x648 with 0 Axes>"
            ]
          },
          "metadata": {
            "tags": []
          }
        }
      ]
    }
  ]
}