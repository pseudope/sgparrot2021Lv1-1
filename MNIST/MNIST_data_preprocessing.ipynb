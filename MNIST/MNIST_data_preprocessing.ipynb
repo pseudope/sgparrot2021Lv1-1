{
  "nbformat": 4,
  "nbformat_minor": 0,
  "metadata": {
    "colab": {
      "name": "MNIST_data_preprocessing.ipynb",
      "provenance": [],
      "authorship_tag": "ABX9TyPCab/zfryv9gUN3qWDkjhl",
      "include_colab_link": true
    },
    "kernelspec": {
      "name": "python3",
      "display_name": "Python 3"
    },
    "language_info": {
      "name": "python"
    }
  },
  "cells": [
    {
      "cell_type": "markdown",
      "metadata": {
        "id": "view-in-github",
        "colab_type": "text"
      },
      "source": [
        "<a href=\"https://colab.research.google.com/github/sgparrot/sgparrot2021Lv1-1/blob/main/MNIST/MNIST_data_preprocessing.ipynb\" target=\"_parent\"><img src=\"https://colab.research.google.com/assets/colab-badge.svg\" alt=\"Open In Colab\"/></a>"
      ]
    },
    {
      "cell_type": "markdown",
      "metadata": {
        "id": "FBkIB0HzdPDr"
      },
      "source": [
        "# 데이터 해상도 조절"
      ]
    },
    {
      "cell_type": "code",
      "metadata": {
        "id": "XPNa91VxdbAk",
        "colab": {
          "base_uri": "https://localhost:8080/"
        },
        "outputId": "5536adde-8aa5-4c4a-a473-bd330cc727ca"
      },
      "source": [
        "import numpy as np\n",
        "import tensorflow as tf\n",
        "import matplotlib.pyplot as plt\n",
        "from tensorflow.keras import layers\n",
        "from tensorflow.keras.utils import to_categorical\n",
        "(x_train, y_train), (x_test, y_test)=tf.keras.datasets.mnist.load_data()"
      ],
      "execution_count": 1,
      "outputs": [
        {
          "output_type": "stream",
          "text": [
            "Downloading data from https://storage.googleapis.com/tensorflow/tf-keras-datasets/mnist.npz\n",
            "11493376/11490434 [==============================] - 0s 0us/step\n"
          ],
          "name": "stdout"
        }
      ]
    },
    {
      "cell_type": "code",
      "metadata": {
        "colab": {
          "base_uri": "https://localhost:8080/",
          "height": 35
        },
        "id": "565f0txJ0NLY",
        "outputId": "da78190f-6016-405d-e6e9-706abeca8f24"
      },
      "source": [
        "import cv2\n",
        "cv2.__version__"
      ],
      "execution_count": 2,
      "outputs": [
        {
          "output_type": "execute_result",
          "data": {
            "application/vnd.google.colaboratory.intrinsic+json": {
              "type": "string"
            },
            "text/plain": [
              "'4.1.2'"
            ]
          },
          "metadata": {
            "tags": []
          },
          "execution_count": 2
        }
      ]
    },
    {
      "cell_type": "code",
      "metadata": {
        "colab": {
          "base_uri": "https://localhost:8080/",
          "height": 282
        },
        "id": "ussjceeHecdO",
        "outputId": "65ffd2ad-0070-4389-a103-f2d641a05834"
      },
      "source": [
        "plt.imshow(x_train[0])"
      ],
      "execution_count": 3,
      "outputs": [
        {
          "output_type": "execute_result",
          "data": {
            "text/plain": [
              "<matplotlib.image.AxesImage at 0x7f0a5c91bd50>"
            ]
          },
          "metadata": {
            "tags": []
          },
          "execution_count": 3
        },
        {
          "output_type": "display_data",
          "data": {
            "image/png": "[encoded data removed]",
            "text/plain": [
              "<Figure size 432x288 with 1 Axes>"
            ]
          },
          "metadata": {
            "tags": [],
            "needs_background": "light"
          }
        }
      ]
    },
    {
      "cell_type": "code",
      "metadata": {
        "colab": {
          "base_uri": "https://localhost:8080/"
        },
        "id": "FVr_VU-e3uPN",
        "outputId": "38e2a43f-33a2-4ce1-edf6-b773c50ea1d8"
      },
      "source": [
        "kernel=np.ones((5, 5))/25.0\n",
        "kernel"
      ],
      "execution_count": 18,
      "outputs": [
        {
          "output_type": "execute_result",
          "data": {
            "text/plain": [
              "array([[0.04, 0.04, 0.04, 0.04, 0.04],\n",
              "       [0.04, 0.04, 0.04, 0.04, 0.04],\n",
              "       [0.04, 0.04, 0.04, 0.04, 0.04],\n",
              "       [0.04, 0.04, 0.04, 0.04, 0.04],\n",
              "       [0.04, 0.04, 0.04, 0.04, 0.04]])"
            ]
          },
          "metadata": {
            "tags": []
          },
          "execution_count": 18
        }
      ]
    },
    {
      "cell_type": "code",
      "metadata": {
        "colab": {
          "base_uri": "https://localhost:8080/",
          "height": 265
        },
        "id": "cECG7Ze94Laz",
        "outputId": "9ffeac54-5923-40be-b87d-1cf18995e683"
      },
      "source": [
        "train_b=cv2.filter2D(x_train[0], -1, kernel)\n",
        "plt.imshow(train_b)\n",
        "plt.show()"
      ],
      "execution_count": 19,
      "outputs": [
        {
          "output_type": "display_data",
          "data": {
            "image/png": "[encoded data removed]",
            "text/plain": [
              "<Figure size 432x288 with 1 Axes>"
            ]
          },
          "metadata": {
            "tags": [],
            "needs_background": "light"
          }
        }
      ]
    },
    {
      "cell_type": "code",
      "metadata": {
        "colab": {
          "base_uri": "https://localhost:8080/",
          "height": 265
        },
        "id": "kPAdSidX4uMz",
        "outputId": "37bc484b-4035-4ab2-c496-458eb52a031b"
      },
      "source": [
        "nkernel=np.array([[0, -1, 0],\n",
        "                  [-1, 10, -1],\n",
        "                  [0, -1, 0]])\n",
        "img_sharp=cv2.filter2D(x_train[0], -1, nkernel)\n",
        "plt.imshow(img_sharp)\n",
        "plt.show()"
      ],
      "execution_count": 6,
      "outputs": [
        {
          "output_type": "display_data",
          "data": {
            "image/png": "[encoded data removed]",
            "text/plain": [
              "<Figure size 432x288 with 1 Axes>"
            ]
          },
          "metadata": {
            "tags": [],
            "needs_background": "light"
          }
        }
      ]
    },
    {
      "cell_type": "code",
      "metadata": {
        "id": "UM-GDDEift3u"
      },
      "source": [
        "img_s=cv2.filter2D(x_train, -1, nkernel)"
      ],
      "execution_count": 12,
      "outputs": []
    },
    {
      "cell_type": "code",
      "metadata": {
        "colab": {
          "base_uri": "https://localhost:8080/",
          "height": 397
        },
        "id": "ipB4jOpdgIE6",
        "outputId": "74be119b-fbd1-4afb-c40b-78562c7d9bc5"
      },
      "source": [
        "plt.figure(figsize=(20, 10))\n",
        "for i in range(9):\n",
        "  plt.subplot(330+1+i)\n",
        "  plt.imshow(img_s[i])\n",
        "plt.show()"
      ],
      "execution_count": 13,
      "outputs": [
        {
          "output_type": "display_data",
          "data": {
            "image/png": "[encoded data removed]",
            "text/plain": [
              "<Figure size 1440x720 with 9 Axes>"
            ]
          },
          "metadata": {
            "tags": [],
            "needs_background": "light"
          }
        }
      ]
    }
  ]
}