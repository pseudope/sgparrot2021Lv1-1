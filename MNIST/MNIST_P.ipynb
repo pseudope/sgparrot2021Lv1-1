{
 "cells": [
  {
   "cell_type": "markdown",
   "metadata": {},
   "source": [
    "# MNIST Classification"
   ]
  },
  {
   "cell_type": "code",
   "execution_count": null,
   "metadata": {},
   "outputs": [],
   "source": [
    "# from tensorflow.keras.preprocessing.image import ImageDataGenerator"
   ]
  },
  {
   "cell_type": "code",
   "execution_count": 1,
   "metadata": {
    "execution": {
     "iopub.execute_input": "2021-04-08T11:35:02.164064Z",
     "iopub.status.busy": "2021-04-08T11:35:02.163065Z",
     "iopub.status.idle": "2021-04-08T11:35:10.334866Z",
     "shell.execute_reply": "2021-04-08T11:35:10.332870Z",
     "shell.execute_reply.started": "2021-04-08T11:35:02.164064Z"
    }
   },
   "outputs": [],
   "source": [
    "import os\n",
    "import math\n",
    "\n",
    "import pandas as pd\n",
    "import numpy as np\n",
    "import tensorflow as tf\n",
    "import matplotlib.pyplot as plt\n",
    "\n",
    "from tensorflow.keras import layers\n",
    "from tensorflow.keras.utils import to_categorical, Sequence\n",
    "from tensorflow.keras.models import Sequential\n",
    "from tensorflow.keras.layers import Conv2D, MaxPooling2D, Dense, Flatten\n",
    "\n",
    "### for notebook users\n",
    "%matplotlib inline"
   ]
  },
  {
   "cell_type": "markdown",
   "metadata": {},
   "source": [
    "## Preprocessing & Inspecting"
   ]
  },
  {
   "cell_type": "markdown",
   "metadata": {},
   "source": [
    "### Defining Dataloader\n",
    "tensorflow.keras.utils.Sequence를 상속받아서 Dataloader라는 class를 생성"
   ]
  },
  {
   "cell_type": "code",
   "execution_count": 2,
   "metadata": {
    "execution": {
     "iopub.execute_input": "2021-04-08T11:35:10.361793Z",
     "iopub.status.busy": "2021-04-08T11:35:10.359798Z",
     "iopub.status.idle": "2021-04-08T11:35:10.421633Z",
     "shell.execute_reply": "2021-04-08T11:35:10.413655Z",
     "shell.execute_reply.started": "2021-04-08T11:35:10.361793Z"
    }
   },
   "outputs": [],
   "source": [
    "class Dataloader(Sequence):\n",
    "\n",
    "    def __init__(self, x_set, y_set, batch_size, shuffle=False):\n",
    "        self.x, self.y = x_set, y_set\n",
    "        self.batch_size = batch_size\n",
    "        self.shuffle=shuffle\n",
    "        self.on_epoch_end()\n",
    "\n",
    "    def __len__(self):\n",
    "        return math.ceil(len(self.x) / self.batch_size)\n",
    "\n",
    "    def __getitem__(self, idx):\n",
    "        indices = self.indices[idx*self.batch_size:(idx+1)*self.batch_size]\n",
    "\n",
    "        batch_x = [self.x[i] for i in indices]\n",
    "        batch_y = [self.y[i] for i in indices]\n",
    "\n",
    "        return np.array(batch_x), np.array(batch_y)\n",
    "    \n",
    "    ### Epoch이 한 번 끝날 때마다 shuffle\n",
    "    def on_epoch_end(self):\n",
    "        self.indices = np.arange(len(self.x))\n",
    "        if self.shuffle == True:\n",
    "            np.random.shuffle(self.indices)"
   ]
  },
  {
   "cell_type": "markdown",
   "metadata": {},
   "source": [
    "### Generating Datasets"
   ]
  },
  {
   "cell_type": "code",
   "execution_count": 3,
   "metadata": {
    "execution": {
     "iopub.execute_input": "2021-04-08T11:35:10.425623Z",
     "iopub.status.busy": "2021-04-08T11:35:10.424626Z",
     "iopub.status.idle": "2021-04-08T11:35:11.153679Z",
     "shell.execute_reply": "2021-04-08T11:35:11.149687Z",
     "shell.execute_reply.started": "2021-04-08T11:35:10.425623Z"
    }
   },
   "outputs": [
    {
     "name": "stdout",
     "output_type": "stream",
     "text": [
      "X_train shape: (60000, 28, 28)\n",
      "X_test shape: (10000, 28, 28)\n"
     ]
    }
   ],
   "source": [
    "(X_train, y_train), (X_test, y_test) = tf.keras.datasets.mnist.load_data()\n",
    "\n",
    "print(\"X_train shape: {}\".format(X_train.shape))\n",
    "print(\"X_test shape: {}\".format(X_test.shape))\n",
    "\n",
    "### Hyperparametrization을 하면 맨 아래로 이동될 변수들\n",
    "### 아직 Modeling이 되지 않아 임시로 여기에 두겠습니다.\n",
    "batch_size = 128\n",
    "num_classes = len(np.unique(y_train))"
   ]
  },
  {
   "cell_type": "markdown",
   "metadata": {},
   "source": [
    "### Preprocessing"
   ]
  },
  {
   "cell_type": "code",
   "execution_count": 4,
   "metadata": {
    "execution": {
     "iopub.execute_input": "2021-04-08T11:35:11.156668Z",
     "iopub.status.busy": "2021-04-08T11:35:11.155672Z",
     "iopub.status.idle": "2021-04-08T11:35:11.499751Z",
     "shell.execute_reply": "2021-04-08T11:35:11.497757Z",
     "shell.execute_reply.started": "2021-04-08T11:35:11.156668Z"
    }
   },
   "outputs": [],
   "source": [
    "X_train = X_train.reshape(X_train.shape[0], 28, 28, 1)\n",
    "X_test = X_test.reshape(X_test.shape[0], 28, 28, 1)\n",
    "\n",
    "X_train = X_train.astype(\"float32\") / (2^8 - 1)\n",
    "X_test = X_test.astype(\"float32\") / (2^8 - 1)\n",
    "\n",
    "y_train = to_categorical(y_train, num_classes)\n",
    "y_test = to_categorical(y_test, num_classes)"
   ]
  },
  {
   "cell_type": "code",
   "execution_count": 5,
   "metadata": {
    "execution": {
     "iopub.execute_input": "2021-04-08T11:35:11.503740Z",
     "iopub.status.busy": "2021-04-08T11:35:11.501747Z",
     "iopub.status.idle": "2021-04-08T11:35:11.544630Z",
     "shell.execute_reply": "2021-04-08T11:35:11.542635Z",
     "shell.execute_reply.started": "2021-04-08T11:35:11.503740Z"
    }
   },
   "outputs": [],
   "source": [
    "train_loader = Dataloader(X_train, y_train, batch_size, shuffle=True)\n",
    "test_loader = Dataloader(X_test, y_test, batch_size, shuffle=False)"
   ]
  },
  {
   "cell_type": "markdown",
   "metadata": {},
   "source": [
    "### Dataset Inspecting"
   ]
  },
  {
   "cell_type": "code",
   "execution_count": 6,
   "metadata": {
    "execution": {
     "iopub.execute_input": "2021-04-08T11:35:11.550623Z",
     "iopub.status.busy": "2021-04-08T11:35:11.547622Z",
     "iopub.status.idle": "2021-04-08T11:35:11.577545Z",
     "shell.execute_reply": "2021-04-08T11:35:11.575548Z",
     "shell.execute_reply.started": "2021-04-08T11:35:11.550623Z"
    }
   },
   "outputs": [
    {
     "name": "stdout",
     "output_type": "stream",
     "text": [
      "Target: (128, 10)\n",
      "Data  : (128, 28, 28, 1)\n"
     ]
    }
   ],
   "source": [
    "### 임시로 한 개의 minibatch를 돌려보는 상황\n",
    "\n",
    "examples = enumerate(train_loader)\n",
    "batch_idx, (example_data, example_target) = next(examples)\n",
    "\n",
    "print(\"Target: {}\".format(example_target.shape))\n",
    "print(\"Data  : {}\".format(example_data.shape))"
   ]
  },
  {
   "cell_type": "code",
   "execution_count": 7,
   "metadata": {
    "execution": {
     "iopub.execute_input": "2021-04-08T11:35:11.581531Z",
     "iopub.status.busy": "2021-04-08T11:35:11.580548Z",
     "iopub.status.idle": "2021-04-08T11:35:14.230448Z",
     "shell.execute_reply": "2021-04-08T11:35:14.228453Z",
     "shell.execute_reply.started": "2021-04-08T11:35:11.581531Z"
    }
   },
   "outputs": [
    {
     "data": {
      "image/png": "[encoded data removed]",
      "text/plain": [
       "<Figure size 648x648 with 9 Axes>"
      ]
     },
     "metadata": {
      "needs_background": "light"
     },
     "output_type": "display_data"
    }
   ],
   "source": [
    "fig = plt.figure(figsize=(9, 9))\n",
    "\n",
    "for i in range(9):\n",
    "    plt.subplot(3, 3, 1 + i)\n",
    "    plt.tight_layout()\n",
    "    plt.imshow(example_data[i], cmap=\"gray\", interpolation=\"none\")\n",
    "    target = np.where(example_target[i]==1)[0]\n",
    "    plt.title(\"Ground Truth: {}\".format(int(target)))\n",
    "\n",
    "plt.show()"
   ]
  },
  {
   "cell_type": "markdown",
   "metadata": {},
   "source": [
    "## Hypothesis Modeling / Defining Loss Function"
   ]
  },
  {
   "cell_type": "code",
   "execution_count": 8,
   "metadata": {
    "execution": {
     "iopub.execute_input": "2021-04-08T11:35:14.235434Z",
     "iopub.status.busy": "2021-04-08T11:35:14.234437Z",
     "iopub.status.idle": "2021-04-08T11:35:14.513692Z",
     "shell.execute_reply": "2021-04-08T11:35:14.511697Z",
     "shell.execute_reply.started": "2021-04-08T11:35:14.235434Z"
    }
   },
   "outputs": [
    {
     "name": "stdout",
     "output_type": "stream",
     "text": [
      "Model: \"sequential\"\n",
      "_________________________________________________________________\n",
      "Layer (type)                 Output Shape              Param #   \n",
      "=================================================================\n",
      "conv2d (Conv2D)              (None, 26, 26, 32)        320       \n",
      "_________________________________________________________________\n",
      "max_pooling2d (MaxPooling2D) (None, 13, 13, 32)        0         \n",
      "_________________________________________________________________\n",
      "conv2d_1 (Conv2D)            (None, 13, 13, 32)        9248      \n",
      "_________________________________________________________________\n",
      "max_pooling2d_1 (MaxPooling2 (None, 6, 6, 32)          0         \n",
      "_________________________________________________________________\n",
      "flatten (Flatten)            (None, 1152)              0         \n",
      "_________________________________________________________________\n",
      "dense (Dense)                (None, 128)               147584    \n",
      "_________________________________________________________________\n",
      "dense_1 (Dense)              (None, 10)                1290      \n",
      "=================================================================\n",
      "Total params: 158,442\n",
      "Trainable params: 158,442\n",
      "Non-trainable params: 0\n",
      "_________________________________________________________________\n"
     ]
    }
   ],
   "source": [
    "model = Sequential()\n",
    "\n",
    "model.add(Conv2D(32, (3, 3), activation=\"relu\", kernel_initializer=\"he_uniform\", input_shape=(28, 28, 1)))\n",
    "model.add(MaxPooling2D((2, 2)))\n",
    "model.add(Conv2D(32, (3, 3), padding=\"same\", activation=\"relu\"))\n",
    "model.add(MaxPooling2D((2, 2)))\n",
    "model.add(Flatten())\n",
    "model.add(Dense(128, activation=\"relu\"))\n",
    "model.add(Dense(num_classes, activation=\"softmax\"))   # 중요\n",
    "\n",
    "model.summary()"
   ]
  },
  {
   "cell_type": "code",
   "execution_count": 9,
   "metadata": {
    "execution": {
     "iopub.execute_input": "2021-04-08T11:35:14.518679Z",
     "iopub.status.busy": "2021-04-08T11:35:14.517694Z",
     "iopub.status.idle": "2021-04-08T11:35:14.562561Z",
     "shell.execute_reply": "2021-04-08T11:35:14.559571Z",
     "shell.execute_reply.started": "2021-04-08T11:35:14.518679Z"
    }
   },
   "outputs": [],
   "source": [
    "### compile\n",
    "\n",
    "model.compile(optimizer=\"rmsprop\", loss=\"categorical_crossentropy\", metrics=[\"accuracy\"])"
   ]
  },
  {
   "cell_type": "markdown",
   "metadata": {},
   "source": [
    "## TRAINING"
   ]
  },
  {
   "cell_type": "code",
   "execution_count": 10,
   "metadata": {
    "execution": {
     "iopub.execute_input": "2021-04-08T11:35:14.568548Z",
     "iopub.status.busy": "2021-04-08T11:35:14.566561Z",
     "iopub.status.idle": "2021-04-08T11:38:07.613436Z",
     "shell.execute_reply": "2021-04-08T11:38:07.612440Z",
     "shell.execute_reply.started": "2021-04-08T11:35:14.568548Z"
    }
   },
   "outputs": [
    {
     "name": "stdout",
     "output_type": "stream",
     "text": [
      "Epoch 1/5\n",
      "375/375 [==============================] - 34s 91ms/step - loss: 1.0533 - accuracy: 0.9071 - val_loss: 0.1441 - val_accuracy: 0.9648\n",
      "Epoch 2/5\n",
      "375/375 [==============================] - 34s 90ms/step - loss: 0.0954 - accuracy: 0.9743 - val_loss: 0.0825 - val_accuracy: 0.9787\n",
      "Epoch 3/5\n",
      "375/375 [==============================] - 34s 92ms/step - loss: 0.0665 - accuracy: 0.9823 - val_loss: 0.1195 - val_accuracy: 0.9737\n",
      "Epoch 4/5\n",
      "375/375 [==============================] - 34s 91ms/step - loss: 0.0484 - accuracy: 0.9874 - val_loss: 0.0789 - val_accuracy: 0.9839\n",
      "Epoch 5/5\n",
      "375/375 [==============================] - 35s 92ms/step - loss: 0.0399 - accuracy: 0.9899 - val_loss: 0.0912 - val_accuracy: 0.9852\n"
     ]
    }
   ],
   "source": [
    "hist = model.fit(X_train, y_train, batch_size=128, epochs=5, validation_split=0.2, verbose=1)"
   ]
  },
  {
   "cell_type": "markdown",
   "metadata": {},
   "source": [
    "## EVALUATION"
   ]
  },
  {
   "cell_type": "code",
   "execution_count": 11,
   "metadata": {
    "execution": {
     "iopub.execute_input": "2021-04-08T11:38:07.616429Z",
     "iopub.status.busy": "2021-04-08T11:38:07.616429Z",
     "iopub.status.idle": "2021-04-08T11:38:07.629394Z",
     "shell.execute_reply": "2021-04-08T11:38:07.627811Z",
     "shell.execute_reply.started": "2021-04-08T11:38:07.616429Z"
    }
   },
   "outputs": [],
   "source": [
    "def acc_loss_plot(hist):\n",
    "    \n",
    "    fit, loss_ax = plt.subplots()\n",
    "    acc_ax = loss_ax.twinx()\n",
    "    \n",
    "    loss_ax.plot(hist.history[\"loss\"], \"y\", label=\"train loss\")\n",
    "    loss_ax.plot(hist.history[\"val_loss\"], \"r\", label=\"val loss\")\n",
    "    loss_ax.set_xlabel(\"epoch\")\n",
    "    loss_ax.set_ylabel(\"loss\")\n",
    "    loss_ax.legend(loc = \"upper left\")\n",
    "    \n",
    "    acc_ax.plot(hist.history[\"accuracy\"], \"b\", label=\"train acc\")\n",
    "    acc_ax.plot(hist.history[\"val_accuracy\"], \"g\", label=\"val_acc\")\n",
    "    acc_ax.set_ylabel(\"loss\")\n",
    "    acc_ax.legend(loc = \"upper right\")\n",
    "    \n",
    "    plt.show()"
   ]
  },
  {
   "cell_type": "code",
   "execution_count": 12,
   "metadata": {
    "execution": {
     "iopub.execute_input": "2021-04-08T11:38:07.633383Z",
     "iopub.status.busy": "2021-04-08T11:38:07.632386Z",
     "iopub.status.idle": "2021-04-08T11:38:08.763361Z",
     "shell.execute_reply": "2021-04-08T11:38:08.761367Z",
     "shell.execute_reply.started": "2021-04-08T11:38:07.633383Z"
    }
   },
   "outputs": [
    {
     "name": "stdout",
     "output_type": "stream",
     "text": [
      "baseline accuracy\n"
     ]
    },
    {
     "data": {
      "image/png": "[encoded data removed]",
      "text/plain": [
       "<Figure size 432x288 with 2 Axes>"
      ]
     },
     "metadata": {
      "needs_background": "light"
     },
     "output_type": "display_data"
    },
    {
     "name": "stdout",
     "output_type": "stream",
     "text": [
      "None\n"
     ]
    }
   ],
   "source": [
    "print(\"baseline accuracy\")\n",
    "print(acc_loss_plot(hist))"
   ]
  },
  {
   "cell_type": "code",
   "execution_count": 13,
   "metadata": {
    "execution": {
     "iopub.execute_input": "2021-04-08T11:38:08.766353Z",
     "iopub.status.busy": "2021-04-08T11:38:08.765357Z",
     "iopub.status.idle": "2021-04-08T11:38:10.758028Z",
     "shell.execute_reply": "2021-04-08T11:38:10.756033Z",
     "shell.execute_reply.started": "2021-04-08T11:38:08.766353Z"
    }
   },
   "outputs": [
    {
     "name": "stdout",
     "output_type": "stream",
     "text": [
      "Test Loss: 0.07226552814245224\n",
      "Test Accuracy: 0.9837999939918518\n"
     ]
    }
   ],
   "source": [
    "score = model.evaluate(X_test, y_test, verbose=0)\n",
    "print(\"Test Loss: {}\".format(score[0]))\n",
    "print(\"Test Accuracy: {}\".format(score[1]))"
   ]
  }
 ],
 "metadata": {
  "kernelspec": {
   "display_name": "pseudope",
   "language": "python",
   "name": "pseudope"
  },
  "language_info": {
   "codemirror_mode": {
    "name": "ipython",
    "version": 3
   },
   "file_extension": ".py",
   "mimetype": "text/x-python",
   "name": "python",
   "nbconvert_exporter": "python",
   "pygments_lexer": "ipython3",
   "version": "3.8.5"
  }
 },
 "nbformat": 4,
 "nbformat_minor": 4
}
