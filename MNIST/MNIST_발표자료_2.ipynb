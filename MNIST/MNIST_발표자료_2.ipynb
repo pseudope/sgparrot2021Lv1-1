{
  "nbformat": 4,
  "nbformat_minor": 0,
  "metadata": {
    "kernelspec": {
      "name": "python3",
      "display_name": "Python 3",
      "language": "python"
    },
    "colab": {
      "name": "MNIST_발표자료_2.ipynb",
      "provenance": [],
      "collapsed_sections": [],
      "toc_visible": true,
      "include_colab_link": true
    },
    "language_info": {
      "name": "python",
      "version": "3.8.5",
      "mimetype": "text/x-python",
      "codemirror_mode": {
        "name": "ipython",
        "version": 3
      },
      "pygments_lexer": "ipython3",
      "nbconvert_exporter": "python",
      "file_extension": ".py"
    },
    "accelerator": "GPU"
  },
  "cells": [
    {
      "cell_type": "markdown",
      "metadata": {
        "id": "view-in-github",
        "colab_type": "text"
      },
      "source": [
        "<a href=\"https://colab.research.google.com/github/sgparrot/sgparrot2021Lv1-1/blob/main/MNIST/MNIST_%EB%B0%9C%ED%91%9C%EC%9E%90%EB%A3%8C_2.ipynb\" target=\"_parent\"><img src=\"https://colab.research.google.com/assets/colab-badge.svg\" alt=\"Open In Colab\"/></a>"
      ]
    },
    {
      "cell_type": "markdown",
      "metadata": {
        "id": "9nKlTm1C1UtT"
      },
      "source": [
        "# MNIST Classification"
      ]
    },
    {
      "cell_type": "code",
      "metadata": {
        "execution": {
          "iopub.status.idle": "2021-04-28T18:25:32.570241Z",
          "shell.execute_reply": "2021-04-28T18:25:32.567233Z",
          "shell.execute_reply.started": "2021-04-28T18:25:22.442709Z"
        },
        "id": "bxlnAe1d1Utm"
      },
      "source": [
        "import os\n",
        "import math\n",
        "import argparse\n",
        "import time\n",
        "import random\n",
        "\n",
        "import pandas as pd\n",
        "import numpy as np\n",
        "import tensorflow as tf\n",
        "import matplotlib.pyplot as plt\n",
        "import seaborn as sns\n",
        "\n",
        "from tensorflow.keras import layers\n",
        "from tensorflow.keras.utils import to_categorical, Sequence\n",
        "from tensorflow.keras.models import Sequential\n",
        "from tensorflow.data import Dataset\n",
        "from tensorflow.keras.applications import VGG16\n",
        "from tensorflow.keras.callbacks import ReduceLROnPlateau\n",
        "\n",
        "from copy import deepcopy\n",
        "\n",
        "### for notebook users\n",
        "%matplotlib inline"
      ],
      "execution_count": null,
      "outputs": []
    },
    {
      "cell_type": "markdown",
      "metadata": {
        "id": "wSY4TUD61Utp"
      },
      "source": [
        "## Preprocessing & Inspecting"
      ]
    },
    {
      "cell_type": "markdown",
      "metadata": {
        "id": "p21ClbyT1Utp"
      },
      "source": [
        "### Defining Dataloader\n",
        "tensorflow.keras.utils.Sequence를 상속받아서 Dataloader라는 class를 생성"
      ]
    },
    {
      "cell_type": "code",
      "metadata": {
        "execution": {
          "iopub.execute_input": "2021-04-28T18:25:32.581208Z",
          "iopub.status.busy": "2021-04-28T18:25:32.581208Z",
          "iopub.status.idle": "2021-04-28T18:25:32.600155Z",
          "shell.execute_reply": "2021-04-28T18:25:32.599192Z",
          "shell.execute_reply.started": "2021-04-28T18:25:32.581208Z"
        },
        "id": "KWPENpNj1Utr"
      },
      "source": [
        "class Dataloader(Sequence):\n",
        "\n",
        "    def __init__(self, x_set, y_set, batch_size, shuffle=False):\n",
        "        self.x, self.y = x_set, y_set\n",
        "        self.batch_size = batch_size\n",
        "        self.shuffle=shuffle\n",
        "        self.on_epoch_end()\n",
        "\n",
        "    def __len__(self):\n",
        "        return math.ceil(len(self.x) / self.batch_size)\n",
        "\n",
        "    def __getitem__(self, idx):\n",
        "        indices = self.indices[idx*self.batch_size:(idx+1)*self.batch_size]\n",
        "\n",
        "        batch_x = [self.x[i] for i in indices]\n",
        "        batch_y = [self.y[i] for i in indices]\n",
        "\n",
        "        return np.array(batch_x), np.array(batch_y)\n",
        "    \n",
        "    ### Epoch이 한 번 끝날 때마다 shuffle\n",
        "    def on_epoch_end(self):\n",
        "        self.indices = np.arange(len(self.x))\n",
        "        if self.shuffle == True:\n",
        "            np.random.shuffle(self.indices)"
      ],
      "execution_count": null,
      "outputs": []
    },
    {
      "cell_type": "markdown",
      "metadata": {
        "execution": {
          "iopub.execute_input": "2021-04-27T13:51:50.021678Z",
          "iopub.status.busy": "2021-04-27T13:51:50.020680Z",
          "iopub.status.idle": "2021-04-27T13:51:50.036637Z",
          "shell.execute_reply": "2021-04-27T13:51:50.034642Z",
          "shell.execute_reply.started": "2021-04-27T13:51:50.021678Z"
        },
        "id": "VqDuQ2fK1Uts"
      },
      "source": [
        "### Generating Datasets"
      ]
    },
    {
      "cell_type": "code",
      "metadata": {
        "execution": {
          "iopub.execute_input": "2021-04-28T18:25:32.603145Z",
          "iopub.status.busy": "2021-04-28T18:25:32.602147Z",
          "iopub.status.idle": "2021-04-28T18:25:33.280852Z",
          "shell.execute_reply": "2021-04-28T18:25:33.278856Z",
          "shell.execute_reply.started": "2021-04-28T18:25:32.603145Z"
        },
        "colab": {
          "base_uri": "https://localhost:8080/"
        },
        "id": "f6gS2CE51Utt",
        "outputId": "41c15046-262b-449b-a2bd-37253c543a20"
      },
      "source": [
        "(X_train, y_train), (X_test, y_test) = tf.keras.datasets.mnist.load_data()\n",
        "\n",
        "print(\"X_train shape: {}\".format(X_train.shape))\n",
        "print(\"X_test shape: {}\".format(X_test.shape))"
      ],
      "execution_count": null,
      "outputs": [
        {
          "output_type": "stream",
          "text": [
            "X_train shape: (60000, 28, 28)\n",
            "X_test shape: (10000, 28, 28)\n"
          ],
          "name": "stdout"
        }
      ]
    },
    {
      "cell_type": "markdown",
      "metadata": {
        "id": "E57kmBby1Utx"
      },
      "source": [
        "### Preprocessing"
      ]
    },
    {
      "cell_type": "code",
      "metadata": {
        "execution": {
          "iopub.execute_input": "2021-04-28T18:25:33.284842Z",
          "iopub.status.busy": "2021-04-28T18:25:33.283848Z",
          "iopub.status.idle": "2021-04-28T18:25:34.055777Z",
          "shell.execute_reply": "2021-04-28T18:25:34.052785Z",
          "shell.execute_reply.started": "2021-04-28T18:25:33.284842Z"
        },
        "id": "tS1jb3db1Utx"
      },
      "source": [
        "X_train = X_train.reshape(X_train.shape[0], 28, 28, 1)\n",
        "X_test = X_test.reshape(X_test.shape[0], 28, 28, 1)\n",
        "\n",
        "X_train = X_train.astype(\"float32\") / (2^8 - 1)\n",
        "X_test = X_test.astype(\"float32\") / (2^8 - 1)\n",
        "\n",
        "y_train = to_categorical(y_train, 10)   # 변수화 필요\n",
        "y_test = to_categorical(y_test, 10)     # 변수화 필요"
      ],
      "execution_count": null,
      "outputs": []
    },
    {
      "cell_type": "code",
      "metadata": {
        "execution": {
          "iopub.execute_input": "2021-04-28T18:25:34.060764Z",
          "iopub.status.busy": "2021-04-28T18:25:34.059767Z",
          "iopub.status.idle": "2021-04-28T18:25:34.086695Z",
          "shell.execute_reply": "2021-04-28T18:25:34.082705Z",
          "shell.execute_reply.started": "2021-04-28T18:25:34.060764Z"
        },
        "id": "tzIiOWht1Uty"
      },
      "source": [
        "train_loader = Dataloader(X_train, y_train, 128, shuffle=True)   # 변수화 필요\n",
        "test_loader = Dataloader(X_test, y_test, 128, shuffle=False)     # 변수화 필요"
      ],
      "execution_count": null,
      "outputs": []
    },
    {
      "cell_type": "markdown",
      "metadata": {
        "id": "bJyMyd0H1Utz"
      },
      "source": [
        "### Dataset Inspecting"
      ]
    },
    {
      "cell_type": "code",
      "metadata": {
        "execution": {
          "iopub.execute_input": "2021-04-28T18:25:34.091682Z",
          "iopub.status.busy": "2021-04-28T18:25:34.089687Z",
          "iopub.status.idle": "2021-04-28T18:25:34.129580Z",
          "shell.execute_reply": "2021-04-28T18:25:34.128582Z",
          "shell.execute_reply.started": "2021-04-28T18:25:34.091682Z"
        },
        "colab": {
          "base_uri": "https://localhost:8080/"
        },
        "id": "5ctsT5Gp1Ut0",
        "outputId": "9da1bbbb-1942-4d5a-d69a-4413c143cac7"
      },
      "source": [
        "### 임시로 한 개의 minibatch를 돌려보는 상황\n",
        "\n",
        "examples = enumerate(train_loader)\n",
        "batch_idx, (example_data, example_target) = next(examples)\n",
        "\n",
        "print(\"Target: {}\".format(example_target.shape))\n",
        "print(\"Data  : {}\".format(example_data.shape))"
      ],
      "execution_count": null,
      "outputs": [
        {
          "output_type": "stream",
          "text": [
            "Target: (128, 10)\n",
            "Data  : (128, 28, 28, 1)\n"
          ],
          "name": "stdout"
        }
      ]
    },
    {
      "cell_type": "code",
      "metadata": {
        "execution": {
          "iopub.execute_input": "2021-04-28T18:25:34.132572Z",
          "iopub.status.busy": "2021-04-28T18:25:34.131575Z",
          "iopub.status.idle": "2021-04-28T18:25:37.080020Z",
          "shell.execute_reply": "2021-04-28T18:25:37.079021Z",
          "shell.execute_reply.started": "2021-04-28T18:25:34.132572Z"
        },
        "colab": {
          "base_uri": "https://localhost:8080/",
          "height": 657
        },
        "id": "-kWN_pFy1Ut1",
        "outputId": "bf6e36ef-1f8f-45c6-b98c-9bf8bbaa8352"
      },
      "source": [
        "fig = plt.figure(figsize=(9, 9))\n",
        "\n",
        "for i in range(9):\n",
        "    plt.subplot(3, 3, 1 + i)\n",
        "    plt.tight_layout()\n",
        "    plt.imshow(tf.squeeze(example_data[i]), cmap=\"gray\", interpolation=\"none\")\n",
        "    target = np.where(example_target[i]==1)[0]\n",
        "    plt.title(\"Ground Truth: {}\".format(int(target)))\n",
        "\n",
        "plt.show()"
      ],
      "execution_count": null,
      "outputs": [
        {
          "output_type": "display_data",
          "data": {
            "image/png": "[encoded data removed]",
            "text/plain": [
              "<Figure size 648x648 with 9 Axes>"
            ]
          },
          "metadata": {
            "tags": [],
            "needs_background": "light"
          }
        }
      ]
    },
    {
      "cell_type": "markdown",
      "metadata": {
        "id": "hWpeQLh21Ut2"
      },
      "source": [
        "## Modeling\n",
        "CNN Modeling도 OOP로 구현하고 싶었으나, 아직 이해도가 부족한 것 같습니다."
      ]
    },
    {
      "cell_type": "code",
      "metadata": {
        "execution": {
          "iopub.execute_input": "2021-04-28T18:25:37.086004Z",
          "iopub.status.busy": "2021-04-28T18:25:37.085006Z",
          "iopub.status.idle": "2021-04-28T18:25:37.111935Z",
          "shell.execute_reply": "2021-04-28T18:25:37.110936Z",
          "shell.execute_reply.started": "2021-04-28T18:25:37.086004Z"
        },
        "id": "bj0QHYTM1Ut2"
      },
      "source": [
        "def CNN(act, initial, dropout, use_bn):\n",
        "    \n",
        "    if act == \"ReLU\" or act == \"relu\":\n",
        "        activation = \"relu\"\n",
        "    elif act == \"sigmoid\":\n",
        "        activation = \"sigmoid\"\n",
        "    elif act == \"tanh\":\n",
        "         activation = \"tanh\"\n",
        "    elif act == \"softmax\":\n",
        "        activation = \"softmax\"\n",
        "    else:\n",
        "        raise ValueError(\"Not a valid activation function.\")\n",
        "    \n",
        "    if initial == \"Xavier\" or initial == \"glorot\":\n",
        "        initializer = \"glorot_uniform\"\n",
        "    elif initial == \"he\":\n",
        "        initializer = \"he_uniform\"\n",
        "    else:\n",
        "        raise ValueError(\"Not a valid initializer.\")\n",
        "    \n",
        "    model = Sequential()\n",
        "    model.add(layers.Conv2D(32, (3, 3), activation=activation,\n",
        "                            kernel_initializer=initializer,\n",
        "                            input_shape=(28, 28, 1)))\n",
        "    if use_bn == True:\n",
        "        model.add(layers.BatchNormalization())\n",
        "    model.add(layers.MaxPooling2D((2, 2)))\n",
        "    model.add(layers.Dropout(dropout))\n",
        "    model.add(layers.Conv2D(64, (3, 3), activation=activation))\n",
        "    if use_bn == True:\n",
        "        model.add(layers.BatchNormalization())\n",
        "    model.add(layers.MaxPooling2D((2, 2)))\n",
        "    model.add(layers.Dropout(dropout))\n",
        "    model.add(layers.Conv2D(64, (3, 3), activation=activation))\n",
        "    if use_bn == True:\n",
        "        model.add(layers.BatchNormalization())\n",
        "\n",
        "    model.add(layers.Flatten())\n",
        "    model.add(layers.Dense(64, activation=activation))\n",
        "    if use_bn == True:\n",
        "        model.add(layers.BatchNormalization())\n",
        "    model.add(layers.Dropout(dropout))\n",
        "    \n",
        "    model.add(layers.Dense(10, activation=\"softmax\"))\n",
        "    \n",
        "    model.summary()\n",
        "    \n",
        "    return model"
      ],
      "execution_count": null,
      "outputs": []
    },
    {
      "cell_type": "markdown",
      "metadata": {
        "id": "JDJMq-QL1Ut4"
      },
      "source": [
        "## Experiment"
      ]
    },
    {
      "cell_type": "code",
      "metadata": {
        "execution": {
          "iopub.execute_input": "2021-04-28T18:25:37.116922Z",
          "iopub.status.busy": "2021-04-28T18:25:37.114926Z",
          "iopub.status.idle": "2021-04-28T18:25:37.162799Z",
          "shell.execute_reply": "2021-04-28T18:25:37.153827Z",
          "shell.execute_reply.started": "2021-04-28T18:25:37.116922Z"
        },
        "id": "k8gmUmzb1Ut5"
      },
      "source": [
        "def experiment(args):\n",
        "    \n",
        "    model = CNN(act=args.act, initial=args.initializer,\n",
        "                dropout=args.dropout, use_bn=args.use_bn)\n",
        "    \n",
        "    if args.optimizer == \"SGD\":\n",
        "        optimizer = tf.keras.optimizers.SGD(learning_rate=args.lr)\n",
        "    elif args.optimizer == \"RMSprop\":\n",
        "        optimizer = tf.keras.optimizers.RMSprop(learning_rate=args.lr)\n",
        "    elif args.optimizer == \"Adam\" or args.optimizer == \"ADAM\":\n",
        "        optimizer = tf.keras.optimizers.Adam(learning_rate=args.lr)\n",
        "    else:\n",
        "        raise ValueError(\"Invalid Optimizer Choice.\")\n",
        "    \n",
        "    model.compile(optimizer=optimizer, loss=\"categorical_crossentropy\",\n",
        "                  metrics=[\"accuracy\"])\n",
        "    \n",
        "    hist = model.fit(X_train, y_train, batch_size=args.train_batch_size,\n",
        "                 epochs=args.epoch, validation_split=0.2, verbose=1)\n",
        "    \n",
        "    return hist, model"
      ],
      "execution_count": null,
      "outputs": []
    },
    {
      "cell_type": "markdown",
      "metadata": {
        "id": "U8szLeKM1Ut6"
      },
      "source": [
        "## Hyperparametrization\n",
        "변수를 조절하는 부분입니다. 변수를 바꾸어가며 실험해보고 싶은 부분은 list로 목록을 만든 후 <br>\n",
        "for문을 이용하여 실행하면 되고, 적절한 값을 찾은 변수는 직접 입력하면 됩니다."
      ]
    },
    {
      "cell_type": "code",
      "metadata": {
        "execution": {
          "iopub.execute_input": "2021-04-28T18:52:52.978493Z",
          "iopub.status.busy": "2021-04-28T18:52:52.978493Z",
          "iopub.status.idle": "2021-04-28T18:52:53.005420Z",
          "shell.execute_reply": "2021-04-28T18:52:53.003423Z",
          "shell.execute_reply.started": "2021-04-28T18:52:52.978493Z"
        },
        "id": "D-oGKi_K1Ut7"
      },
      "source": [
        "parser = argparse.ArgumentParser()\n",
        "args = parser.parse_args(\"\")\n",
        "\n",
        "### Model\n",
        "# args.model_code = \"VGG16\"    # 실행할 모델 이름 (미구현)\n",
        "# args.in_channels = 1         # 뭐더라?\n",
        "args.in_dim = 1 * 28 * 28      # 파일 크기\n",
        "# args.hidden_dim = 100        # MLP의 Hidden Dimension (미구현)\n",
        "args.out_dim = 10              # 0부터 9까지, 총 10가지\n",
        "args.act = \"ReLU\"              # Activation Function(ReLU, sigmoid, tanh, softmax 구현) -> ReLU 확정\n",
        "# args.n_layers = 1            # 뭐더라?\n",
        "args.kernel_size = 3           # filter의 size\n",
        "\n",
        "### Regulization\n",
        "args.l2 = 1e-5                 # l2 정규화 alpha 값\n",
        "args.use_bn = True             # Batch Normalization 사용 여부 -> True 확정\n",
        "args.dropout = 0.2             # dropout 비율 -> 0.2 확정\n",
        "args.initializer = \"Xavier\"    # Initializer 설정(Xavier, he 구현) -> Xavier 확정\n",
        "\n",
        "### Training & Test\n",
        "args.optimizer = \"RMSprop\"     # Optimizer 설정(SGD, RMSprop, Adam 구현) -> RMSprop 확정\n",
        "args.lr = 0.001                # Learning Rate -> 0.001 확정\n",
        "args.epoch = 5                 # Epoch 횟수 -> 5 확정\n",
        "args.train_batch_size = 2**7   # Training Batch Size\n",
        "args.test_batch_size = 2**7    # Test Batch Size\n",
        "\n",
        "\n",
        "\n",
        "### Experiment Variable\n",
        "\n",
        "name_var1 = []\n",
        "name_var2 = []\n",
        "\n",
        "list_var1 = [] \n",
        "list_var2 = []"
      ],
      "execution_count": null,
      "outputs": []
    },
    {
      "cell_type": "markdown",
      "metadata": {
        "id": "-daw_-ks1Ut8"
      },
      "source": [
        "## Evaluation"
      ]
    },
    {
      "cell_type": "code",
      "metadata": {
        "execution": {
          "iopub.execute_input": "2021-04-28T18:25:37.208676Z",
          "iopub.status.busy": "2021-04-28T18:25:37.207679Z",
          "iopub.status.idle": "2021-04-28T18:50:29.752060Z",
          "shell.execute_reply": "2021-04-28T18:50:29.750064Z",
          "shell.execute_reply.started": "2021-04-28T18:25:37.208676Z"
        },
        "id": "MyYqwi3s1Ut9"
      },
      "source": [
        "model_list = []\n",
        "hist_list = []\n",
        "\n",
        "count = 0\n",
        "\n",
        "for var1 in list_var1:\n",
        "    for var2 in list_var2:\n",
        "        \n",
        "        setattr(args, name_var1, var1)   # args.name_var1 = var1과 같은 문법\n",
        "        setattr(args, name_var2, var2)\n",
        "        \n",
        "        print(args)\n",
        "        \n",
        "        hist, model = experiment(deepcopy(args))\n",
        "        \n",
        "        model_list.append(model)\n",
        "        hist_list.append(hist)"
      ],
      "execution_count": null,
      "outputs": []
    },
    {
      "cell_type": "markdown",
      "metadata": {
        "id": "08WSFC4w1Ut-"
      },
      "source": [
        "### Visualization for Train & Validation"
      ]
    },
    {
      "cell_type": "code",
      "metadata": {
        "execution": {
          "iopub.execute_input": "2021-04-28T18:51:17.608803Z",
          "iopub.status.busy": "2021-04-28T18:51:17.607806Z",
          "iopub.status.idle": "2021-04-28T18:51:17.631741Z",
          "shell.execute_reply": "2021-04-28T18:51:17.630743Z",
          "shell.execute_reply.started": "2021-04-28T18:51:17.607806Z"
        },
        "id": "Ubdp1h_t1Ut_"
      },
      "source": [
        "def acc_loss_plot(hist):\n",
        "    \n",
        "    fit, loss_ax = plt.subplots()\n",
        "    acc_ax = loss_ax.twinx()\n",
        "    \n",
        "    loss_ax.plot(hist.history[\"loss\"], \"y\", label=\"train_loss\")\n",
        "    loss_ax.plot(hist.history[\"val_loss\"], \"r\", label=\"val_loss\")\n",
        "    loss_ax.set_xlabel(\"Epoch\")\n",
        "    loss_ax.set_ylabel(\"Loss\")\n",
        "    loss_ax.legend(loc = \"upper left\")\n",
        "    \n",
        "    acc_ax.plot(hist.history[\"accuracy\"], \"b\", label=\"train_acc\")\n",
        "    acc_ax.plot(hist.history[\"val_accuracy\"], \"g\", label=\"val_acc\")\n",
        "    acc_ax.set_ylabel(\"loss\")\n",
        "    acc_ax.legend(loc = \"upper right\")\n",
        "    \n",
        "    plt.show()"
      ],
      "execution_count": null,
      "outputs": []
    },
    {
      "cell_type": "code",
      "metadata": {
        "execution": {
          "iopub.execute_input": "2021-04-28T18:51:19.210998Z",
          "iopub.status.busy": "2021-04-28T18:51:19.210998Z",
          "iopub.status.idle": "2021-04-28T18:51:24.171730Z",
          "shell.execute_reply": "2021-04-28T18:51:24.170732Z",
          "shell.execute_reply.started": "2021-04-28T18:51:19.210998Z"
        },
        "id": "lYjp5PWU1UuD"
      },
      "source": [
        "count = 0\n",
        "\n",
        "for var1 in list_var1:\n",
        "    for var2 in list_var2:\n",
        "        \n",
        "        print(\"-{0}: {1}, {2}: {3}\"\n",
        "              .format(name_var1, var1, name_var2, var2))\n",
        "        \n",
        "        print(\"Train Loss: {0}, \\tTrain Accuracy: {1}\"\n",
        "              .format(hist_list[count].history[\"loss\"][-1],\n",
        "                     hist_list[count].history[\"accuracy\"][-1]))\n",
        "        print(\"Validation Loss: {0}, \\tValidation Accuracy: {1}\"\n",
        "              .format(hist_list[count].history[\"val_loss\"][-1],\n",
        "                     hist_list[count].history[\"val_accuracy\"][-1]))\n",
        "        \n",
        "        acc_loss_plot(hist_list[count])\n",
        "        plt.show()\n",
        "        \n",
        "        count +=1"
      ],
      "execution_count": null,
      "outputs": []
    },
    {
      "cell_type": "markdown",
      "metadata": {
        "id": "tbdXAyzW1UuD"
      },
      "source": [
        "## Test"
      ]
    },
    {
      "cell_type": "code",
      "metadata": {
        "execution": {
          "iopub.execute_input": "2021-04-28T18:51:34.711186Z",
          "iopub.status.busy": "2021-04-28T18:51:34.710190Z",
          "iopub.status.idle": "2021-04-28T18:51:50.370814Z",
          "shell.execute_reply": "2021-04-28T18:51:50.369816Z",
          "shell.execute_reply.started": "2021-04-28T18:51:34.710190Z"
        },
        "id": "KGsutV4W1UuE"
      },
      "source": [
        "count = 0\n",
        "\n",
        "for var1 in list_var1:\n",
        "    for var2 in list_var2:\n",
        "        \n",
        "        print(\"-{0}: {1}, {2}: {3}\"\n",
        "              .format(name_var1, var1, name_var2, var2))\n",
        "        \n",
        "        score = model_list[count].evaluate(X_test, y_test, verbose=0)\n",
        "        print(\"Test Loss: {}\".format(score[0]))\n",
        "        print(\"Test Accuracy: {}\\n\".format(score[1]))\n",
        "        \n",
        "        count += 1"
      ],
      "execution_count": null,
      "outputs": []
    },
    {
      "cell_type": "markdown",
      "metadata": {
        "id": "A4KDsLtY4bVH"
      },
      "source": [
        "## FINAL RESULT"
      ]
    },
    {
      "cell_type": "markdown",
      "metadata": {
        "id": "kHJZ4KPSKHrd"
      },
      "source": [
        "### Model 1"
      ]
    },
    {
      "cell_type": "code",
      "metadata": {
        "execution": {
          "iopub.execute_input": "2021-04-28T18:51:55.210236Z",
          "iopub.status.busy": "2021-04-28T18:51:55.209239Z",
          "iopub.status.idle": "2021-04-28T18:51:55.220209Z",
          "shell.execute_reply": "2021-04-28T18:51:55.218214Z",
          "shell.execute_reply.started": "2021-04-28T18:51:55.210236Z"
        },
        "colab": {
          "base_uri": "https://localhost:8080/"
        },
        "id": "Zt7gWp7r1UuE",
        "outputId": "56a598ec-6400-4549-840f-e4c2e929fd42"
      },
      "source": [
        "### 다 실행해 본 후 마지막 결과 출력 시에는 이것을 사용\n",
        "\n",
        "hist, model = experiment(deepcopy(args))"
      ],
      "execution_count": null,
      "outputs": [
        {
          "output_type": "stream",
          "text": [
            "Model: \"sequential\"\n",
            "_________________________________________________________________\n",
            "Layer (type)                 Output Shape              Param #   \n",
            "=================================================================\n",
            "conv2d (Conv2D)              (None, 26, 26, 32)        320       \n",
            "_________________________________________________________________\n",
            "batch_normalization (BatchNo (None, 26, 26, 32)        128       \n",
            "_________________________________________________________________\n",
            "max_pooling2d (MaxPooling2D) (None, 13, 13, 32)        0         \n",
            "_________________________________________________________________\n",
            "dropout (Dropout)            (None, 13, 13, 32)        0         \n",
            "_________________________________________________________________\n",
            "conv2d_1 (Conv2D)            (None, 11, 11, 64)        18496     \n",
            "_________________________________________________________________\n",
            "batch_normalization_1 (Batch (None, 11, 11, 64)        256       \n",
            "_________________________________________________________________\n",
            "max_pooling2d_1 (MaxPooling2 (None, 5, 5, 64)          0         \n",
            "_________________________________________________________________\n",
            "dropout_1 (Dropout)          (None, 5, 5, 64)          0         \n",
            "_________________________________________________________________\n",
            "conv2d_2 (Conv2D)            (None, 3, 3, 64)          36928     \n",
            "_________________________________________________________________\n",
            "batch_normalization_2 (Batch (None, 3, 3, 64)          256       \n",
            "_________________________________________________________________\n",
            "flatten (Flatten)            (None, 576)               0         \n",
            "_________________________________________________________________\n",
            "dense (Dense)                (None, 64)                36928     \n",
            "_________________________________________________________________\n",
            "batch_normalization_3 (Batch (None, 64)                256       \n",
            "_________________________________________________________________\n",
            "dropout_2 (Dropout)          (None, 64)                0         \n",
            "_________________________________________________________________\n",
            "dense_1 (Dense)              (None, 10)                650       \n",
            "=================================================================\n",
            "Total params: 94,218\n",
            "Trainable params: 93,770\n",
            "Non-trainable params: 448\n",
            "_________________________________________________________________\n",
            "Epoch 1/5\n",
            "375/375 [==============================] - 5s 7ms/step - loss: 0.3942 - accuracy: 0.8816 - val_loss: 0.0513 - val_accuracy: 0.9841\n",
            "Epoch 2/5\n",
            "375/375 [==============================] - 2s 6ms/step - loss: 0.0657 - accuracy: 0.9799 - val_loss: 0.0417 - val_accuracy: 0.9882\n",
            "Epoch 3/5\n",
            "375/375 [==============================] - 2s 6ms/step - loss: 0.0430 - accuracy: 0.9864 - val_loss: 0.0363 - val_accuracy: 0.9893\n",
            "Epoch 4/5\n",
            "375/375 [==============================] - 2s 6ms/step - loss: 0.0335 - accuracy: 0.9899 - val_loss: 0.0307 - val_accuracy: 0.9908\n",
            "Epoch 5/5\n",
            "375/375 [==============================] - 2s 6ms/step - loss: 0.0296 - accuracy: 0.9908 - val_loss: 0.0322 - val_accuracy: 0.9912\n"
          ],
          "name": "stdout"
        }
      ]
    },
    {
      "cell_type": "code",
      "metadata": {
        "execution": {
          "iopub.execute_input": "2021-04-28T18:51:55.765915Z",
          "iopub.status.busy": "2021-04-28T18:51:55.764919Z",
          "iopub.status.idle": "2021-04-28T18:51:55.783868Z",
          "shell.execute_reply": "2021-04-28T18:51:55.782870Z",
          "shell.execute_reply.started": "2021-04-28T18:51:55.765915Z"
        },
        "colab": {
          "base_uri": "https://localhost:8080/",
          "height": 279
        },
        "id": "JrunJQ4b1UuF",
        "outputId": "6f8ef867-a97d-47b8-df75-fa96cd38fc14"
      },
      "source": [
        "acc_loss_plot(hist)"
      ],
      "execution_count": null,
      "outputs": [
        {
          "output_type": "display_data",
          "data": {
            "image/png": "[encoded data removed]",
            "text/plain": [
              "<Figure size 432x288 with 2 Axes>"
            ]
          },
          "metadata": {
            "tags": [],
            "needs_background": "light"
          }
        }
      ]
    },
    {
      "cell_type": "code",
      "metadata": {
        "execution": {
          "iopub.execute_input": "2021-04-28T18:51:56.299488Z",
          "iopub.status.busy": "2021-04-28T18:51:56.298494Z",
          "iopub.status.idle": "2021-04-28T18:51:56.316443Z",
          "shell.execute_reply": "2021-04-28T18:51:56.314448Z",
          "shell.execute_reply.started": "2021-04-28T18:51:56.299488Z"
        },
        "colab": {
          "base_uri": "https://localhost:8080/"
        },
        "id": "7p8-1ziu1UuF",
        "outputId": "1718debe-9653-4732-f2bd-7691a804f9a7"
      },
      "source": [
        "score = model.evaluate(X_test, y_test, verbose=0)\n",
        "print(\"Test Loss: {}\".format(score[0]))\n",
        "print(\"Test Accuracy: {}\".format(score[1]))"
      ],
      "execution_count": null,
      "outputs": [
        {
          "output_type": "stream",
          "text": [
            "Test Loss: 0.026036150753498077\n",
            "Test Accuracy: 0.9918000102043152\n"
          ],
          "name": "stdout"
        }
      ]
    },
    {
      "cell_type": "markdown",
      "metadata": {
        "id": "b3mci2WvKseV"
      },
      "source": [
        "### Model 2"
      ]
    },
    {
      "cell_type": "code",
      "metadata": {
        "colab": {
          "base_uri": "https://localhost:8080/"
        },
        "id": "gKYprKPvJnyr",
        "outputId": "ac5d441a-a480-43bc-eb78-9f1a21ee0972"
      },
      "source": [
        "model = Sequential()\n",
        "model.add(layers.Conv2D(32,(3,3), activation = 'relu', kernel_initializer ='he_uniform', input_shape = (28,28,1)))\n",
        "model.add(layers.MaxPooling2D((2, 2)))\n",
        "model.add(layers.Conv2D(64, (3,3), padding = 'same', activation=\"relu\"))\n",
        "model.add(layers.MaxPooling2D((2, 2)))\n",
        "model.add(layers.Flatten()) \n",
        "model.add(layers.Dropout(0.5)) #overfitting 방지\n",
        "model.add(layers.Dense(32, activation = 'relu'))\n",
        "model.add(layers.Dense(10, activation=\"softmax\"))\n",
        "  \n",
        "model.summary()"
      ],
      "execution_count": null,
      "outputs": [
        {
          "output_type": "stream",
          "text": [
            "Model: \"sequential_1\"\n",
            "_________________________________________________________________\n",
            "Layer (type)                 Output Shape              Param #   \n",
            "=================================================================\n",
            "conv2d_3 (Conv2D)            (None, 26, 26, 32)        320       \n",
            "_________________________________________________________________\n",
            "max_pooling2d_2 (MaxPooling2 (None, 13, 13, 32)        0         \n",
            "_________________________________________________________________\n",
            "conv2d_4 (Conv2D)            (None, 13, 13, 64)        18496     \n",
            "_________________________________________________________________\n",
            "max_pooling2d_3 (MaxPooling2 (None, 6, 6, 64)          0         \n",
            "_________________________________________________________________\n",
            "flatten_1 (Flatten)          (None, 2304)              0         \n",
            "_________________________________________________________________\n",
            "dropout_3 (Dropout)          (None, 2304)              0         \n",
            "_________________________________________________________________\n",
            "dense_2 (Dense)              (None, 32)                73760     \n",
            "_________________________________________________________________\n",
            "dense_3 (Dense)              (None, 10)                330       \n",
            "=================================================================\n",
            "Total params: 92,906\n",
            "Trainable params: 92,906\n",
            "Non-trainable params: 0\n",
            "_________________________________________________________________\n"
          ],
          "name": "stdout"
        }
      ]
    },
    {
      "cell_type": "code",
      "metadata": {
        "colab": {
          "base_uri": "https://localhost:8080/"
        },
        "id": "ELmSP2diJnys",
        "outputId": "c0307931-d0e0-4e0e-dfd0-4b0e270d56a3"
      },
      "source": [
        "model.compile(optimizer='adam', loss='categorical_crossentropy', metrics=['accuracy'])\n",
        "hist = model.fit(X_train, y_train, batch_size=100, epochs=15, validation_split=0.2, verbose=1)"
      ],
      "execution_count": null,
      "outputs": [
        {
          "output_type": "stream",
          "text": [
            "Epoch 1/15\n",
            "480/480 [==============================] - 2s 4ms/step - loss: 5.0523 - accuracy: 0.2260 - val_loss: 0.9371 - val_accuracy: 0.7125\n",
            "Epoch 2/15\n",
            "480/480 [==============================] - 2s 4ms/step - loss: 0.6423 - accuracy: 0.8172 - val_loss: 0.1378 - val_accuracy: 0.9628\n",
            "Epoch 3/15\n",
            "480/480 [==============================] - 2s 4ms/step - loss: 0.2130 - accuracy: 0.9417 - val_loss: 0.0894 - val_accuracy: 0.9755\n",
            "Epoch 4/15\n",
            "480/480 [==============================] - 2s 4ms/step - loss: 0.1551 - accuracy: 0.9577 - val_loss: 0.0802 - val_accuracy: 0.9780\n",
            "Epoch 5/15\n",
            "480/480 [==============================] - 2s 4ms/step - loss: 0.1239 - accuracy: 0.9654 - val_loss: 0.0628 - val_accuracy: 0.9830\n",
            "Epoch 6/15\n",
            "480/480 [==============================] - 2s 4ms/step - loss: 0.1015 - accuracy: 0.9710 - val_loss: 0.0602 - val_accuracy: 0.9844\n",
            "Epoch 7/15\n",
            "480/480 [==============================] - 2s 4ms/step - loss: 0.0895 - accuracy: 0.9738 - val_loss: 0.0497 - val_accuracy: 0.9868\n",
            "Epoch 8/15\n",
            "480/480 [==============================] - 2s 4ms/step - loss: 0.0775 - accuracy: 0.9775 - val_loss: 0.0516 - val_accuracy: 0.9862\n",
            "Epoch 9/15\n",
            "480/480 [==============================] - 2s 4ms/step - loss: 0.0764 - accuracy: 0.9772 - val_loss: 0.0532 - val_accuracy: 0.9847\n",
            "Epoch 10/15\n",
            "480/480 [==============================] - 2s 4ms/step - loss: 0.0691 - accuracy: 0.9782 - val_loss: 0.0495 - val_accuracy: 0.9875\n",
            "Epoch 11/15\n",
            "480/480 [==============================] - 2s 4ms/step - loss: 0.0662 - accuracy: 0.9786 - val_loss: 0.0483 - val_accuracy: 0.9874\n",
            "Epoch 12/15\n",
            "480/480 [==============================] - 2s 4ms/step - loss: 0.0591 - accuracy: 0.9819 - val_loss: 0.0469 - val_accuracy: 0.9872\n",
            "Epoch 13/15\n",
            "480/480 [==============================] - 2s 4ms/step - loss: 0.0540 - accuracy: 0.9833 - val_loss: 0.0452 - val_accuracy: 0.9871\n",
            "Epoch 14/15\n",
            "480/480 [==============================] - 2s 4ms/step - loss: 0.0482 - accuracy: 0.9846 - val_loss: 0.0417 - val_accuracy: 0.9877\n",
            "Epoch 15/15\n",
            "480/480 [==============================] - 2s 4ms/step - loss: 0.0528 - accuracy: 0.9831 - val_loss: 0.0382 - val_accuracy: 0.9891\n"
          ],
          "name": "stdout"
        }
      ]
    },
    {
      "cell_type": "code",
      "metadata": {
        "colab": {
          "base_uri": "https://localhost:8080/",
          "height": 314
        },
        "id": "AejZ1fgOJnys",
        "outputId": "fd99e323-8095-40a2-e24e-0bfe1de6e3e9"
      },
      "source": [
        "print(\"baseline accuracy\")\n",
        "print(acc_loss_plot(hist))"
      ],
      "execution_count": null,
      "outputs": [
        {
          "output_type": "stream",
          "text": [
            "baseline accuracy\n"
          ],
          "name": "stdout"
        },
        {
          "output_type": "display_data",
          "data": {
            "image/png": "[encoded data removed]",
            "text/plain": [
              "<Figure size 432x288 with 2 Axes>"
            ]
          },
          "metadata": {
            "tags": [],
            "needs_background": "light"
          }
        },
        {
          "output_type": "stream",
          "text": [
            "None\n"
          ],
          "name": "stdout"
        }
      ]
    },
    {
      "cell_type": "code",
      "metadata": {
        "colab": {
          "base_uri": "https://localhost:8080/"
        },
        "id": "cGmcV-YtJnys",
        "outputId": "e9940153-0e8a-4874-9fd7-ae1969b6e8ec"
      },
      "source": [
        "score = model.evaluate(X_test, y_test, verbose = 0)\n",
        "print(\"Test Loss: {}\".format(score[0]))\n",
        "print(\"Test Accuracy: {}\".format(score[1]))"
      ],
      "execution_count": null,
      "outputs": [
        {
          "output_type": "stream",
          "text": [
            "Test Loss: 0.034002818167209625\n",
            "Test Accuracy: 0.9904000163078308\n"
          ],
          "name": "stdout"
        }
      ]
    },
    {
      "cell_type": "code",
      "metadata": {
        "colab": {
          "base_uri": "https://localhost:8080/"
        },
        "id": "ETvfNUQiJnys",
        "outputId": "db62ca4b-ff86-4822-bd7f-7b28540de785"
      },
      "source": [
        "### 예측 결과와 실제 값 비교\n",
        "\n",
        "predicted_result = model.predict(X_test)\n",
        "predicted_labels = np.argmax(predicted_result, axis = 1)\n",
        "test_labels = np.argmax(y_test, axis=1)\n",
        "print(predicted_labels[:10])\n",
        "print(test_labels[:10])"
      ],
      "execution_count": null,
      "outputs": [
        {
          "output_type": "stream",
          "text": [
            "[7 2 1 0 4 1 4 9 5 9]\n",
            "[7 2 1 0 4 1 4 9 5 9]\n"
          ],
          "name": "stdout"
        }
      ]
    },
    {
      "cell_type": "code",
      "metadata": {
        "colab": {
          "base_uri": "https://localhost:8080/"
        },
        "id": "KOQLzWZ5Jnyt",
        "outputId": "07758941-2fd6-44c2-f1be-524c46281935"
      },
      "source": [
        "#틀린 데이터 개수\n",
        "\n",
        "wrong_result = []\n",
        "\n",
        "for n in range(0, len(y_test)):\n",
        "    if predicted_labels[n] != test_labels[n]:\n",
        "        wrong_result.append(n)\n",
        "\n",
        "print(len(wrong_result))"
      ],
      "execution_count": null,
      "outputs": [
        {
          "output_type": "stream",
          "text": [
            "96\n"
          ],
          "name": "stdout"
        }
      ]
    },
    {
      "cell_type": "code",
      "metadata": {
        "colab": {
          "base_uri": "https://localhost:8080/"
        },
        "id": "msuJWubIJnyt",
        "outputId": "875a3bb4-4bb9-4d3d-a269-6a646a77287b"
      },
      "source": [
        "#틀린 것 중 랜덤하게 9개 확인\n",
        "\n",
        "wrong = random.choices(population= wrong_result, k=9)\n",
        "print(wrong)"
      ],
      "execution_count": null,
      "outputs": [
        {
          "output_type": "stream",
          "text": [
            "[1247, 9634, 4294, 4956, 1260, 8408, 3005, 6505, 6597]\n"
          ],
          "name": "stdout"
        }
      ]
    },
    {
      "cell_type": "code",
      "metadata": {
        "colab": {
          "base_uri": "https://localhost:8080/",
          "height": 699
        },
        "id": "6npnCAh7Jnyt",
        "outputId": "2e53b5ae-cdd7-489e-bb49-ec30bc620456"
      },
      "source": [
        "#틀린 데이터 시각화 \n",
        "\n",
        "plt.figure(figsize=(14, 12))\n",
        "\n",
        "for idx, n in enumerate(wrong):\n",
        "    plt.subplot(3, 3, idx + 1)\n",
        "    plt.imshow(X_test[n].reshape(28, 28), cmap = 'Greys', interpolation='nearest')\n",
        "    plt.title('True : ' + str(test_labels[n]) + ' Predict : ' + str(predicted_labels[n]))\n",
        "    plt.axis('off')\n",
        "    \n",
        "plt.show()"
      ],
      "execution_count": null,
      "outputs": [
        {
          "output_type": "display_data",
          "data": {
            "image/png": "[encoded data removed]",
            "text/plain": [
              "<Figure size 1008x864 with 9 Axes>"
            ]
          },
          "metadata": {
            "tags": [],
            "needs_background": "light"
          }
        }
      ]
    },
    {
      "cell_type": "markdown",
      "metadata": {
        "id": "LSmFcMuFK-Xd"
      },
      "source": [
        "### Model 3"
      ]
    },
    {
      "cell_type": "code",
      "metadata": {
        "colab": {
          "base_uri": "https://localhost:8080/"
        },
        "id": "jnIc1JAeJnyu",
        "outputId": "22cca204-82b2-472d-efc6-84c4917e2849"
      },
      "source": [
        "model=Sequential()\n",
        "\n",
        "model.add(layers.Conv2D(filters=64, kernel_size=(5, 5), padding='Same', activation='relu', input_shape=(28, 28, 1)))\n",
        "model.add(layers.BatchNormalization())\n",
        "\n",
        "model.add(layers.Conv2D(filters=64, kernel_size=(5,5), padding='Same', activation='relu'))\n",
        "model.add(layers.BatchNormalization())\n",
        "\n",
        "model.add(layers.MaxPool2D(pool_size=(2, 2)))\n",
        "model.add(layers.Dropout(0.25))\n",
        "\n",
        "model.add(layers.Conv2D(filters=64, kernel_size=(3,3), padding='Same', activation='relu'))\n",
        "model.add(layers.BatchNormalization())\n",
        "\n",
        "model.add(layers.Conv2D(filters=64, kernel_size=(3, 3), padding='Same', activation='relu'))\n",
        "model.add(layers.BatchNormalization())\n",
        "model.add(layers.MaxPool2D(pool_size=(2, 2), strides=(2, 2)))\n",
        "model.add(layers.Dropout(0.25))\n",
        "\n",
        "model.add(layers.Conv2D(filters=64, kernel_size=(3, 3), padding='Same', activation='relu'))\n",
        "model.add(layers.BatchNormalization())\n",
        "model.add(layers.Dropout(0.25))\n",
        "\n",
        "model.add(layers.Flatten())\n",
        "model.add(layers.Dense(256, activation='relu'))\n",
        "model.add(layers.BatchNormalization())\n",
        "model.add(layers.Dropout(0.25))\n",
        "\n",
        "model.add(layers.Dense(10, activation='softmax'))\n",
        "model.summary()"
      ],
      "execution_count": null,
      "outputs": [
        {
          "output_type": "stream",
          "text": [
            "Model: \"sequential_2\"\n",
            "_________________________________________________________________\n",
            "Layer (type)                 Output Shape              Param #   \n",
            "=================================================================\n",
            "conv2d_5 (Conv2D)            (None, 28, 28, 64)        1664      \n",
            "_________________________________________________________________\n",
            "batch_normalization_4 (Batch (None, 28, 28, 64)        256       \n",
            "_________________________________________________________________\n",
            "conv2d_6 (Conv2D)            (None, 28, 28, 64)        102464    \n",
            "_________________________________________________________________\n",
            "batch_normalization_5 (Batch (None, 28, 28, 64)        256       \n",
            "_________________________________________________________________\n",
            "max_pooling2d_4 (MaxPooling2 (None, 14, 14, 64)        0         \n",
            "_________________________________________________________________\n",
            "dropout_4 (Dropout)          (None, 14, 14, 64)        0         \n",
            "_________________________________________________________________\n",
            "conv2d_7 (Conv2D)            (None, 14, 14, 64)        36928     \n",
            "_________________________________________________________________\n",
            "batch_normalization_6 (Batch (None, 14, 14, 64)        256       \n",
            "_________________________________________________________________\n",
            "conv2d_8 (Conv2D)            (None, 14, 14, 64)        36928     \n",
            "_________________________________________________________________\n",
            "batch_normalization_7 (Batch (None, 14, 14, 64)        256       \n",
            "_________________________________________________________________\n",
            "max_pooling2d_5 (MaxPooling2 (None, 7, 7, 64)          0         \n",
            "_________________________________________________________________\n",
            "dropout_5 (Dropout)          (None, 7, 7, 64)          0         \n",
            "_________________________________________________________________\n",
            "conv2d_9 (Conv2D)            (None, 7, 7, 64)          36928     \n",
            "_________________________________________________________________\n",
            "batch_normalization_8 (Batch (None, 7, 7, 64)          256       \n",
            "_________________________________________________________________\n",
            "dropout_6 (Dropout)          (None, 7, 7, 64)          0         \n",
            "_________________________________________________________________\n",
            "flatten_2 (Flatten)          (None, 3136)              0         \n",
            "_________________________________________________________________\n",
            "dense_4 (Dense)              (None, 256)               803072    \n",
            "_________________________________________________________________\n",
            "batch_normalization_9 (Batch (None, 256)               1024      \n",
            "_________________________________________________________________\n",
            "dropout_7 (Dropout)          (None, 256)               0         \n",
            "_________________________________________________________________\n",
            "dense_5 (Dense)              (None, 10)                2570      \n",
            "=================================================================\n",
            "Total params: 1,022,858\n",
            "Trainable params: 1,021,706\n",
            "Non-trainable params: 1,152\n",
            "_________________________________________________________________\n"
          ],
          "name": "stdout"
        }
      ]
    },
    {
      "cell_type": "code",
      "metadata": {
        "id": "dZkpYLNOJnyv"
      },
      "source": [
        "optimizer=tf.keras.optimizers.RMSprop(lr=0.001, rho=0.9, epsilon=1e-08, decay=0.0)"
      ],
      "execution_count": null,
      "outputs": []
    },
    {
      "cell_type": "code",
      "metadata": {
        "id": "MMXMV4OQJnyv"
      },
      "source": [
        "model.compile(optimizer=optimizer, loss='categorical_crossentropy', metrics=['accuracy'])"
      ],
      "execution_count": null,
      "outputs": []
    },
    {
      "cell_type": "code",
      "metadata": {
        "id": "1RO0RiSXJnyv"
      },
      "source": [
        "learning_rate_reduction=ReduceLROnPlateau(monitor='val_acc', patience=3, verbose=1, factor=0.5, min_lr=0.00001)"
      ],
      "execution_count": null,
      "outputs": []
    },
    {
      "cell_type": "code",
      "metadata": {
        "colab": {
          "base_uri": "https://localhost:8080/"
        },
        "id": "sSPf1fa6Jnyv",
        "outputId": "00b0c36e-db6c-401b-e40a-c99807be2f6d"
      },
      "source": [
        "history=model.fit(X_train, y_train, batch_size=128, epochs=50, validation_data=(X_test, y_test),\n",
        "                            verbose=1, callbacks=[learning_rate_reduction])"
      ],
      "execution_count": null,
      "outputs": [
        {
          "output_type": "stream",
          "text": [
            "Epoch 1/50\n",
            "469/469 [==============================] - 8s 13ms/step - loss: 0.2769 - accuracy: 0.9138 - val_loss: 0.0309 - val_accuracy: 0.9904\n",
            "WARNING:tensorflow:Learning rate reduction is conditioned on metric `val_acc` which is not available. Available metrics are: loss,accuracy,val_loss,val_accuracy,lr\n",
            "Epoch 2/50\n",
            "469/469 [==============================] - 6s 13ms/step - loss: 0.0467 - accuracy: 0.9864 - val_loss: 0.0265 - val_accuracy: 0.9913\n",
            "WARNING:tensorflow:Learning rate reduction is conditioned on metric `val_acc` which is not available. Available metrics are: loss,accuracy,val_loss,val_accuracy,lr\n",
            "Epoch 3/50\n",
            "469/469 [==============================] - 6s 13ms/step - loss: 0.0307 - accuracy: 0.9904 - val_loss: 0.0235 - val_accuracy: 0.9928\n",
            "WARNING:tensorflow:Learning rate reduction is conditioned on metric `val_acc` which is not available. Available metrics are: loss,accuracy,val_loss,val_accuracy,lr\n",
            "Epoch 4/50\n",
            "469/469 [==============================] - 6s 13ms/step - loss: 0.0287 - accuracy: 0.9912 - val_loss: 0.0203 - val_accuracy: 0.9933\n",
            "WARNING:tensorflow:Learning rate reduction is conditioned on metric `val_acc` which is not available. Available metrics are: loss,accuracy,val_loss,val_accuracy,lr\n",
            "Epoch 5/50\n",
            "469/469 [==============================] - 6s 13ms/step - loss: 0.0217 - accuracy: 0.9928 - val_loss: 0.0165 - val_accuracy: 0.9951\n",
            "WARNING:tensorflow:Learning rate reduction is conditioned on metric `val_acc` which is not available. Available metrics are: loss,accuracy,val_loss,val_accuracy,lr\n",
            "Epoch 6/50\n",
            "469/469 [==============================] - 6s 13ms/step - loss: 0.0171 - accuracy: 0.9943 - val_loss: 0.0214 - val_accuracy: 0.9933\n",
            "WARNING:tensorflow:Learning rate reduction is conditioned on metric `val_acc` which is not available. Available metrics are: loss,accuracy,val_loss,val_accuracy,lr\n",
            "Epoch 7/50\n",
            "469/469 [==============================] - 6s 13ms/step - loss: 0.0156 - accuracy: 0.9952 - val_loss: 0.0179 - val_accuracy: 0.9950\n",
            "WARNING:tensorflow:Learning rate reduction is conditioned on metric `val_acc` which is not available. Available metrics are: loss,accuracy,val_loss,val_accuracy,lr\n",
            "Epoch 8/50\n",
            "469/469 [==============================] - 6s 13ms/step - loss: 0.0135 - accuracy: 0.9961 - val_loss: 0.0161 - val_accuracy: 0.9948\n",
            "WARNING:tensorflow:Learning rate reduction is conditioned on metric `val_acc` which is not available. Available metrics are: loss,accuracy,val_loss,val_accuracy,lr\n",
            "Epoch 9/50\n",
            "469/469 [==============================] - 6s 13ms/step - loss: 0.0126 - accuracy: 0.9958 - val_loss: 0.0264 - val_accuracy: 0.9924\n",
            "WARNING:tensorflow:Learning rate reduction is conditioned on metric `val_acc` which is not available. Available metrics are: loss,accuracy,val_loss,val_accuracy,lr\n",
            "Epoch 10/50\n",
            "469/469 [==============================] - 6s 13ms/step - loss: 0.0131 - accuracy: 0.9965 - val_loss: 0.0168 - val_accuracy: 0.9946\n",
            "WARNING:tensorflow:Learning rate reduction is conditioned on metric `val_acc` which is not available. Available metrics are: loss,accuracy,val_loss,val_accuracy,lr\n",
            "Epoch 11/50\n",
            "469/469 [==============================] - 6s 13ms/step - loss: 0.0095 - accuracy: 0.9967 - val_loss: 0.0248 - val_accuracy: 0.9937\n",
            "WARNING:tensorflow:Learning rate reduction is conditioned on metric `val_acc` which is not available. Available metrics are: loss,accuracy,val_loss,val_accuracy,lr\n",
            "Epoch 12/50\n",
            "469/469 [==============================] - 6s 13ms/step - loss: 0.0092 - accuracy: 0.9968 - val_loss: 0.0168 - val_accuracy: 0.9951\n",
            "WARNING:tensorflow:Learning rate reduction is conditioned on metric `val_acc` which is not available. Available metrics are: loss,accuracy,val_loss,val_accuracy,lr\n",
            "Epoch 13/50\n",
            "469/469 [==============================] - 6s 13ms/step - loss: 0.0095 - accuracy: 0.9969 - val_loss: 0.0134 - val_accuracy: 0.9953\n",
            "WARNING:tensorflow:Learning rate reduction is conditioned on metric `val_acc` which is not available. Available metrics are: loss,accuracy,val_loss,val_accuracy,lr\n",
            "Epoch 14/50\n",
            "469/469 [==============================] - 6s 13ms/step - loss: 0.0091 - accuracy: 0.9972 - val_loss: 0.0177 - val_accuracy: 0.9949\n",
            "WARNING:tensorflow:Learning rate reduction is conditioned on metric `val_acc` which is not available. Available metrics are: loss,accuracy,val_loss,val_accuracy,lr\n",
            "Epoch 15/50\n",
            "469/469 [==============================] - 6s 13ms/step - loss: 0.0075 - accuracy: 0.9977 - val_loss: 0.0153 - val_accuracy: 0.9950\n",
            "WARNING:tensorflow:Learning rate reduction is conditioned on metric `val_acc` which is not available. Available metrics are: loss,accuracy,val_loss,val_accuracy,lr\n",
            "Epoch 16/50\n",
            "469/469 [==============================] - 6s 13ms/step - loss: 0.0072 - accuracy: 0.9979 - val_loss: 0.0197 - val_accuracy: 0.9955\n",
            "WARNING:tensorflow:Learning rate reduction is conditioned on metric `val_acc` which is not available. Available metrics are: loss,accuracy,val_loss,val_accuracy,lr\n",
            "Epoch 17/50\n",
            "469/469 [==============================] - 6s 13ms/step - loss: 0.0064 - accuracy: 0.9978 - val_loss: 0.0226 - val_accuracy: 0.9948\n",
            "WARNING:tensorflow:Learning rate reduction is conditioned on metric `val_acc` which is not available. Available metrics are: loss,accuracy,val_loss,val_accuracy,lr\n",
            "Epoch 18/50\n",
            "469/469 [==============================] - 6s 13ms/step - loss: 0.0055 - accuracy: 0.9981 - val_loss: 0.0233 - val_accuracy: 0.9950\n",
            "WARNING:tensorflow:Learning rate reduction is conditioned on metric `val_acc` which is not available. Available metrics are: loss,accuracy,val_loss,val_accuracy,lr\n",
            "Epoch 19/50\n",
            "469/469 [==============================] - 6s 13ms/step - loss: 0.0069 - accuracy: 0.9980 - val_loss: 0.0243 - val_accuracy: 0.9944\n",
            "WARNING:tensorflow:Learning rate reduction is conditioned on metric `val_acc` which is not available. Available metrics are: loss,accuracy,val_loss,val_accuracy,lr\n",
            "Epoch 20/50\n",
            "469/469 [==============================] - 6s 13ms/step - loss: 0.0044 - accuracy: 0.9987 - val_loss: 0.0199 - val_accuracy: 0.9953\n",
            "WARNING:tensorflow:Learning rate reduction is conditioned on metric `val_acc` which is not available. Available metrics are: loss,accuracy,val_loss,val_accuracy,lr\n",
            "Epoch 21/50\n",
            "469/469 [==============================] - 6s 13ms/step - loss: 0.0043 - accuracy: 0.9988 - val_loss: 0.0193 - val_accuracy: 0.9953\n",
            "WARNING:tensorflow:Learning rate reduction is conditioned on metric `val_acc` which is not available. Available metrics are: loss,accuracy,val_loss,val_accuracy,lr\n",
            "Epoch 22/50\n",
            "469/469 [==============================] - 6s 13ms/step - loss: 0.0051 - accuracy: 0.9982 - val_loss: 0.0204 - val_accuracy: 0.9953\n",
            "WARNING:tensorflow:Learning rate reduction is conditioned on metric `val_acc` which is not available. Available metrics are: loss,accuracy,val_loss,val_accuracy,lr\n",
            "Epoch 23/50\n",
            "469/469 [==============================] - 6s 13ms/step - loss: 0.0048 - accuracy: 0.9988 - val_loss: 0.0199 - val_accuracy: 0.9951\n",
            "WARNING:tensorflow:Learning rate reduction is conditioned on metric `val_acc` which is not available. Available metrics are: loss,accuracy,val_loss,val_accuracy,lr\n",
            "Epoch 24/50\n",
            "469/469 [==============================] - 6s 13ms/step - loss: 0.0049 - accuracy: 0.9984 - val_loss: 0.0193 - val_accuracy: 0.9956\n",
            "WARNING:tensorflow:Learning rate reduction is conditioned on metric `val_acc` which is not available. Available metrics are: loss,accuracy,val_loss,val_accuracy,lr\n",
            "Epoch 25/50\n",
            "469/469 [==============================] - 6s 13ms/step - loss: 0.0044 - accuracy: 0.9986 - val_loss: 0.0228 - val_accuracy: 0.9959\n",
            "WARNING:tensorflow:Learning rate reduction is conditioned on metric `val_acc` which is not available. Available metrics are: loss,accuracy,val_loss,val_accuracy,lr\n",
            "Epoch 26/50\n",
            "469/469 [==============================] - 6s 13ms/step - loss: 0.0029 - accuracy: 0.9989 - val_loss: 0.0202 - val_accuracy: 0.9958\n",
            "WARNING:tensorflow:Learning rate reduction is conditioned on metric `val_acc` which is not available. Available metrics are: loss,accuracy,val_loss,val_accuracy,lr\n",
            "Epoch 27/50\n",
            "469/469 [==============================] - 6s 13ms/step - loss: 0.0041 - accuracy: 0.9985 - val_loss: 0.0255 - val_accuracy: 0.9956\n",
            "WARNING:tensorflow:Learning rate reduction is conditioned on metric `val_acc` which is not available. Available metrics are: loss,accuracy,val_loss,val_accuracy,lr\n",
            "Epoch 28/50\n",
            "469/469 [==============================] - 6s 13ms/step - loss: 0.0035 - accuracy: 0.9990 - val_loss: 0.0207 - val_accuracy: 0.9959\n",
            "WARNING:tensorflow:Learning rate reduction is conditioned on metric `val_acc` which is not available. Available metrics are: loss,accuracy,val_loss,val_accuracy,lr\n",
            "Epoch 29/50\n",
            "469/469 [==============================] - 6s 13ms/step - loss: 0.0035 - accuracy: 0.9988 - val_loss: 0.0217 - val_accuracy: 0.9948\n",
            "WARNING:tensorflow:Learning rate reduction is conditioned on metric `val_acc` which is not available. Available metrics are: loss,accuracy,val_loss,val_accuracy,lr\n",
            "Epoch 30/50\n",
            "469/469 [==============================] - 6s 13ms/step - loss: 0.0042 - accuracy: 0.9988 - val_loss: 0.0203 - val_accuracy: 0.9963\n",
            "WARNING:tensorflow:Learning rate reduction is conditioned on metric `val_acc` which is not available. Available metrics are: loss,accuracy,val_loss,val_accuracy,lr\n",
            "Epoch 31/50\n",
            "469/469 [==============================] - 6s 13ms/step - loss: 0.0032 - accuracy: 0.9989 - val_loss: 0.0219 - val_accuracy: 0.9959\n",
            "WARNING:tensorflow:Learning rate reduction is conditioned on metric `val_acc` which is not available. Available metrics are: loss,accuracy,val_loss,val_accuracy,lr\n",
            "Epoch 32/50\n",
            "469/469 [==============================] - 6s 13ms/step - loss: 0.0037 - accuracy: 0.9987 - val_loss: 0.0220 - val_accuracy: 0.9958\n",
            "WARNING:tensorflow:Learning rate reduction is conditioned on metric `val_acc` which is not available. Available metrics are: loss,accuracy,val_loss,val_accuracy,lr\n",
            "Epoch 33/50\n",
            "469/469 [==============================] - 6s 13ms/step - loss: 0.0034 - accuracy: 0.9989 - val_loss: 0.0274 - val_accuracy: 0.9949\n",
            "WARNING:tensorflow:Learning rate reduction is conditioned on metric `val_acc` which is not available. Available metrics are: loss,accuracy,val_loss,val_accuracy,lr\n",
            "Epoch 34/50\n",
            "469/469 [==============================] - 6s 13ms/step - loss: 0.0040 - accuracy: 0.9985 - val_loss: 0.0264 - val_accuracy: 0.9952\n",
            "WARNING:tensorflow:Learning rate reduction is conditioned on metric `val_acc` which is not available. Available metrics are: loss,accuracy,val_loss,val_accuracy,lr\n",
            "Epoch 35/50\n",
            "469/469 [==============================] - 6s 13ms/step - loss: 0.0042 - accuracy: 0.9987 - val_loss: 0.0248 - val_accuracy: 0.9960\n",
            "WARNING:tensorflow:Learning rate reduction is conditioned on metric `val_acc` which is not available. Available metrics are: loss,accuracy,val_loss,val_accuracy,lr\n",
            "Epoch 36/50\n",
            "469/469 [==============================] - 6s 13ms/step - loss: 0.0026 - accuracy: 0.9992 - val_loss: 0.0269 - val_accuracy: 0.9952\n",
            "WARNING:tensorflow:Learning rate reduction is conditioned on metric `val_acc` which is not available. Available metrics are: loss,accuracy,val_loss,val_accuracy,lr\n",
            "Epoch 37/50\n",
            "469/469 [==============================] - 6s 13ms/step - loss: 0.0029 - accuracy: 0.9990 - val_loss: 0.0269 - val_accuracy: 0.9954\n",
            "WARNING:tensorflow:Learning rate reduction is conditioned on metric `val_acc` which is not available. Available metrics are: loss,accuracy,val_loss,val_accuracy,lr\n",
            "Epoch 38/50\n",
            "469/469 [==============================] - 6s 13ms/step - loss: 0.0028 - accuracy: 0.9990 - val_loss: 0.0227 - val_accuracy: 0.9959\n",
            "WARNING:tensorflow:Learning rate reduction is conditioned on metric `val_acc` which is not available. Available metrics are: loss,accuracy,val_loss,val_accuracy,lr\n",
            "Epoch 39/50\n",
            "469/469 [==============================] - 6s 13ms/step - loss: 0.0025 - accuracy: 0.9992 - val_loss: 0.0232 - val_accuracy: 0.9962\n",
            "WARNING:tensorflow:Learning rate reduction is conditioned on metric `val_acc` which is not available. Available metrics are: loss,accuracy,val_loss,val_accuracy,lr\n",
            "Epoch 40/50\n",
            "469/469 [==============================] - 6s 13ms/step - loss: 0.0038 - accuracy: 0.9988 - val_loss: 0.0252 - val_accuracy: 0.9950\n",
            "WARNING:tensorflow:Learning rate reduction is conditioned on metric `val_acc` which is not available. Available metrics are: loss,accuracy,val_loss,val_accuracy,lr\n",
            "Epoch 41/50\n",
            "469/469 [==============================] - 6s 13ms/step - loss: 0.0027 - accuracy: 0.9992 - val_loss: 0.0228 - val_accuracy: 0.9961\n",
            "WARNING:tensorflow:Learning rate reduction is conditioned on metric `val_acc` which is not available. Available metrics are: loss,accuracy,val_loss,val_accuracy,lr\n",
            "Epoch 42/50\n",
            "469/469 [==============================] - 6s 13ms/step - loss: 0.0021 - accuracy: 0.9993 - val_loss: 0.0300 - val_accuracy: 0.9955\n",
            "WARNING:tensorflow:Learning rate reduction is conditioned on metric `val_acc` which is not available. Available metrics are: loss,accuracy,val_loss,val_accuracy,lr\n",
            "Epoch 43/50\n",
            "469/469 [==============================] - 6s 13ms/step - loss: 0.0026 - accuracy: 0.9991 - val_loss: 0.0266 - val_accuracy: 0.9954\n",
            "WARNING:tensorflow:Learning rate reduction is conditioned on metric `val_acc` which is not available. Available metrics are: loss,accuracy,val_loss,val_accuracy,lr\n",
            "Epoch 44/50\n",
            "469/469 [==============================] - 6s 13ms/step - loss: 0.0018 - accuracy: 0.9994 - val_loss: 0.0233 - val_accuracy: 0.9964\n",
            "WARNING:tensorflow:Learning rate reduction is conditioned on metric `val_acc` which is not available. Available metrics are: loss,accuracy,val_loss,val_accuracy,lr\n",
            "Epoch 45/50\n",
            "469/469 [==============================] - 6s 13ms/step - loss: 0.0028 - accuracy: 0.9991 - val_loss: 0.0221 - val_accuracy: 0.9962\n",
            "WARNING:tensorflow:Learning rate reduction is conditioned on metric `val_acc` which is not available. Available metrics are: loss,accuracy,val_loss,val_accuracy,lr\n",
            "Epoch 46/50\n",
            "469/469 [==============================] - 6s 13ms/step - loss: 0.0017 - accuracy: 0.9996 - val_loss: 0.0221 - val_accuracy: 0.9960\n",
            "WARNING:tensorflow:Learning rate reduction is conditioned on metric `val_acc` which is not available. Available metrics are: loss,accuracy,val_loss,val_accuracy,lr\n",
            "Epoch 47/50\n",
            "469/469 [==============================] - 6s 13ms/step - loss: 0.0018 - accuracy: 0.9994 - val_loss: 0.0193 - val_accuracy: 0.9971\n",
            "WARNING:tensorflow:Learning rate reduction is conditioned on metric `val_acc` which is not available. Available metrics are: loss,accuracy,val_loss,val_accuracy,lr\n",
            "Epoch 48/50\n",
            "469/469 [==============================] - 6s 13ms/step - loss: 0.0021 - accuracy: 0.9992 - val_loss: 0.0214 - val_accuracy: 0.9960\n",
            "WARNING:tensorflow:Learning rate reduction is conditioned on metric `val_acc` which is not available. Available metrics are: loss,accuracy,val_loss,val_accuracy,lr\n",
            "Epoch 49/50\n",
            "469/469 [==============================] - 6s 13ms/step - loss: 0.0026 - accuracy: 0.9992 - val_loss: 0.0241 - val_accuracy: 0.9952\n",
            "WARNING:tensorflow:Learning rate reduction is conditioned on metric `val_acc` which is not available. Available metrics are: loss,accuracy,val_loss,val_accuracy,lr\n",
            "Epoch 50/50\n",
            "469/469 [==============================] - 6s 13ms/step - loss: 0.0023 - accuracy: 0.9992 - val_loss: 0.0226 - val_accuracy: 0.9963\n",
            "WARNING:tensorflow:Learning rate reduction is conditioned on metric `val_acc` which is not available. Available metrics are: loss,accuracy,val_loss,val_accuracy,lr\n"
          ],
          "name": "stdout"
        }
      ]
    },
    {
      "cell_type": "code",
      "metadata": {
        "colab": {
          "base_uri": "https://localhost:8080/",
          "height": 297
        },
        "id": "97hknlKzJnyw",
        "outputId": "80f4a46e-8016-4f71-ada0-2e9c1db0a486"
      },
      "source": [
        "print(acc_loss_plot(history))"
      ],
      "execution_count": null,
      "outputs": [
        {
          "output_type": "display_data",
          "data": {
            "image/png": "[encoded data removed]",
            "text/plain": [
              "<Figure size 432x288 with 2 Axes>"
            ]
          },
          "metadata": {
            "tags": [],
            "needs_background": "light"
          }
        },
        {
          "output_type": "stream",
          "text": [
            "None\n"
          ],
          "name": "stdout"
        }
      ]
    },
    {
      "cell_type": "code",
      "metadata": {
        "colab": {
          "base_uri": "https://localhost:8080/"
        },
        "id": "_FR54Ql2OzGh",
        "outputId": "bd02086d-069b-4120-8368-672b0c691d9a"
      },
      "source": [
        "score = model.evaluate(X_test, y_test, verbose=0)\n",
        "print(\"Test Loss: {}\".format(score[0]))\n",
        "print(\"Test Accuracy: {}\".format(score[1]))"
      ],
      "execution_count": null,
      "outputs": [
        {
          "output_type": "stream",
          "text": [
            "Test Loss: 0.022586103528738022\n",
            "Test Accuracy: 0.9962999820709229\n"
          ],
          "name": "stdout"
        }
      ]
    },
    {
      "cell_type": "markdown",
      "metadata": {
        "id": "JWZyO6FxPvrx"
      },
      "source": [
        "### Model 4\n",
        "Model 3에서 오류, Epoch 수 등을 수정한 버전. <br>\n",
        "이 Model에 맨 앞에서 소개한 Hyperparametrization을 이용하여 <br>\n",
        "적절한 hyperparameter를 찾을 예정. (99.4% ~ 99.6% 예상)"
      ]
    },
    {
      "cell_type": "code",
      "metadata": {
        "colab": {
          "base_uri": "https://localhost:8080/"
        },
        "id": "7xrGNuS7Plc_",
        "outputId": "04dbea63-7552-4d77-ae22-ad8a5c036ecd"
      },
      "source": [
        "model=Sequential()\n",
        "\n",
        "model.add(layers.Conv2D(filters=64, kernel_size=(5, 5), padding=\"Same\", activation=\"relu\", input_shape=(28, 28, 1)))\n",
        "model.add(layers.BatchNormalization())\n",
        "\n",
        "model.add(layers.Conv2D(filters=64, kernel_size=(5, 5), padding=\"Same\", activation=\"relu\"))\n",
        "model.add(layers.BatchNormalization())\n",
        "\n",
        "model.add(layers.MaxPool2D(pool_size=(2, 2)))\n",
        "model.add(layers.Dropout(0.25))\n",
        "\n",
        "model.add(layers.Conv2D(filters=64, kernel_size=(3, 3), padding=\"Same\", activation=\"relu\"))\n",
        "model.add(layers.BatchNormalization())\n",
        "\n",
        "model.add(layers.Conv2D(filters=64, kernel_size=(3, 3), padding=\"Same\", activation=\"relu\"))\n",
        "model.add(layers.BatchNormalization())\n",
        "model.add(layers.MaxPool2D(pool_size=(2, 2), strides=(2, 2)))\n",
        "model.add(layers.Dropout(0.25))\n",
        "\n",
        "model.add(layers.Conv2D(filters=64, kernel_size=(3, 3), padding=\"Same\", activation=\"relu\"))\n",
        "model.add(layers.BatchNormalization())\n",
        "model.add(layers.Dropout(0.25))\n",
        "\n",
        "model.add(layers.Flatten())\n",
        "model.add(layers.Dense(256, activation=\"relu\"))\n",
        "model.add(layers.BatchNormalization())\n",
        "model.add(layers.Dropout(0.25))\n",
        "\n",
        "model.add(layers.Dense(10, activation=\"softmax\"))\n",
        "print(model.summary())\n",
        "\n",
        "model.compile(optimizer=optimizer, loss=\"categorical_crossentropy\", metrics=[\"accuracy\"])\n",
        "learning_rate_reduction=ReduceLROnPlateau(monitor=\"val_accuracy\", patience=3, verbose=1, factor=0.5, min_lr=0.00001)"
      ],
      "execution_count": null,
      "outputs": [
        {
          "output_type": "stream",
          "text": [
            "Model: \"sequential_4\"\n",
            "_________________________________________________________________\n",
            "Layer (type)                 Output Shape              Param #   \n",
            "=================================================================\n",
            "conv2d_15 (Conv2D)           (None, 28, 28, 64)        1664      \n",
            "_________________________________________________________________\n",
            "batch_normalization_16 (Batc (None, 28, 28, 64)        256       \n",
            "_________________________________________________________________\n",
            "conv2d_16 (Conv2D)           (None, 28, 28, 64)        102464    \n",
            "_________________________________________________________________\n",
            "batch_normalization_17 (Batc (None, 28, 28, 64)        256       \n",
            "_________________________________________________________________\n",
            "max_pooling2d_8 (MaxPooling2 (None, 14, 14, 64)        0         \n",
            "_________________________________________________________________\n",
            "dropout_12 (Dropout)         (None, 14, 14, 64)        0         \n",
            "_________________________________________________________________\n",
            "conv2d_17 (Conv2D)           (None, 14, 14, 64)        36928     \n",
            "_________________________________________________________________\n",
            "batch_normalization_18 (Batc (None, 14, 14, 64)        256       \n",
            "_________________________________________________________________\n",
            "conv2d_18 (Conv2D)           (None, 14, 14, 64)        36928     \n",
            "_________________________________________________________________\n",
            "batch_normalization_19 (Batc (None, 14, 14, 64)        256       \n",
            "_________________________________________________________________\n",
            "max_pooling2d_9 (MaxPooling2 (None, 7, 7, 64)          0         \n",
            "_________________________________________________________________\n",
            "dropout_13 (Dropout)         (None, 7, 7, 64)          0         \n",
            "_________________________________________________________________\n",
            "conv2d_19 (Conv2D)           (None, 7, 7, 64)          36928     \n",
            "_________________________________________________________________\n",
            "batch_normalization_20 (Batc (None, 7, 7, 64)          256       \n",
            "_________________________________________________________________\n",
            "dropout_14 (Dropout)         (None, 7, 7, 64)          0         \n",
            "_________________________________________________________________\n",
            "flatten_4 (Flatten)          (None, 3136)              0         \n",
            "_________________________________________________________________\n",
            "dense_8 (Dense)              (None, 256)               803072    \n",
            "_________________________________________________________________\n",
            "batch_normalization_21 (Batc (None, 256)               1024      \n",
            "_________________________________________________________________\n",
            "dropout_15 (Dropout)         (None, 256)               0         \n",
            "_________________________________________________________________\n",
            "dense_9 (Dense)              (None, 10)                2570      \n",
            "=================================================================\n",
            "Total params: 1,022,858\n",
            "Trainable params: 1,021,706\n",
            "Non-trainable params: 1,152\n",
            "_________________________________________________________________\n",
            "None\n"
          ],
          "name": "stdout"
        }
      ]
    },
    {
      "cell_type": "code",
      "metadata": {
        "colab": {
          "base_uri": "https://localhost:8080/"
        },
        "id": "FAHyrLuaP3J9",
        "outputId": "27bada8e-c7a7-4d2d-e959-de749df62467"
      },
      "source": [
        "hist = model.fit(X_train, y_train, batch_size=128, epochs=15,\n",
        "                 validation_split=0.2, verbose=1,\n",
        "                 callbacks=[learning_rate_reduction])"
      ],
      "execution_count": null,
      "outputs": [
        {
          "output_type": "stream",
          "text": [
            "Epoch 1/15\n",
            "375/375 [==============================] - 6s 14ms/step - loss: 0.3014 - accuracy: 0.9069 - val_loss: 0.0510 - val_accuracy: 0.9859\n",
            "Epoch 2/15\n",
            "375/375 [==============================] - 5s 13ms/step - loss: 0.0470 - accuracy: 0.9849 - val_loss: 0.0627 - val_accuracy: 0.9836\n",
            "Epoch 3/15\n",
            "375/375 [==============================] - 5s 13ms/step - loss: 0.0356 - accuracy: 0.9889 - val_loss: 0.0297 - val_accuracy: 0.9919\n",
            "Epoch 4/15\n",
            "375/375 [==============================] - 5s 13ms/step - loss: 0.0257 - accuracy: 0.9918 - val_loss: 0.0266 - val_accuracy: 0.9930\n",
            "Epoch 5/15\n",
            "375/375 [==============================] - 5s 13ms/step - loss: 0.0208 - accuracy: 0.9934 - val_loss: 0.0259 - val_accuracy: 0.9917\n",
            "Epoch 6/15\n",
            "375/375 [==============================] - 5s 13ms/step - loss: 0.0206 - accuracy: 0.9938 - val_loss: 0.0258 - val_accuracy: 0.9931\n",
            "Epoch 7/15\n",
            "375/375 [==============================] - 5s 13ms/step - loss: 0.0150 - accuracy: 0.9954 - val_loss: 0.0260 - val_accuracy: 0.9927\n",
            "\n",
            "Epoch 00007: ReduceLROnPlateau reducing learning rate to 0.0005000000237487257.\n",
            "Epoch 8/15\n",
            "375/375 [==============================] - 5s 13ms/step - loss: 0.0099 - accuracy: 0.9972 - val_loss: 0.0211 - val_accuracy: 0.9946\n",
            "Epoch 9/15\n",
            "375/375 [==============================] - 5s 13ms/step - loss: 0.0084 - accuracy: 0.9973 - val_loss: 0.0206 - val_accuracy: 0.9942\n",
            "Epoch 10/15\n",
            "375/375 [==============================] - 5s 13ms/step - loss: 0.0057 - accuracy: 0.9982 - val_loss: 0.0229 - val_accuracy: 0.9943\n",
            "Epoch 11/15\n",
            "375/375 [==============================] - 5s 13ms/step - loss: 0.0052 - accuracy: 0.9984 - val_loss: 0.0205 - val_accuracy: 0.9949\n",
            "Epoch 12/15\n",
            "375/375 [==============================] - 5s 13ms/step - loss: 0.0051 - accuracy: 0.9983 - val_loss: 0.0235 - val_accuracy: 0.9948\n",
            "Epoch 13/15\n",
            "375/375 [==============================] - 5s 13ms/step - loss: 0.0041 - accuracy: 0.9988 - val_loss: 0.0220 - val_accuracy: 0.9951\n",
            "Epoch 14/15\n",
            "375/375 [==============================] - 5s 13ms/step - loss: 0.0038 - accuracy: 0.9990 - val_loss: 0.0227 - val_accuracy: 0.9949\n",
            "Epoch 15/15\n",
            "375/375 [==============================] - 5s 13ms/step - loss: 0.0038 - accuracy: 0.9989 - val_loss: 0.0246 - val_accuracy: 0.9942\n"
          ],
          "name": "stdout"
        }
      ]
    },
    {
      "cell_type": "code",
      "metadata": {
        "colab": {
          "base_uri": "https://localhost:8080/",
          "height": 297
        },
        "id": "9UoU-UTSPx6V",
        "outputId": "044c768a-5dc7-493b-a2eb-0fc8a8da23b0"
      },
      "source": [
        "print(acc_loss_plot(hist))"
      ],
      "execution_count": null,
      "outputs": [
        {
          "output_type": "display_data",
          "data": {
            "image/png": "[encoded data removed]",
            "text/plain": [
              "<Figure size 432x288 with 2 Axes>"
            ]
          },
          "metadata": {
            "tags": [],
            "needs_background": "light"
          }
        },
        {
          "output_type": "stream",
          "text": [
            "None\n"
          ],
          "name": "stdout"
        }
      ]
    },
    {
      "cell_type": "code",
      "metadata": {
        "colab": {
          "base_uri": "https://localhost:8080/"
        },
        "id": "1jl2K0wVQKsD",
        "outputId": "b87535ab-f5b5-4dad-8f4e-8bc685100f79"
      },
      "source": [
        "score = model.evaluate(X_test, y_test, verbose=0)\n",
        "print(\"Test Loss: {}\".format(score[0]))\n",
        "print(\"Test Accuracy: {}\".format(score[1]))"
      ],
      "execution_count": null,
      "outputs": [
        {
          "output_type": "stream",
          "text": [
            "Test Loss: 0.01736058108508587\n",
            "Test Accuracy: 0.9952999949455261\n"
          ],
          "name": "stdout"
        }
      ]
    }
  ]
}